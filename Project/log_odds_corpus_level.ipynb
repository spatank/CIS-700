{
  "nbformat": 4,
  "nbformat_minor": 0,
  "metadata": {
    "colab": {
      "name": "log_odds_corpus_level.ipynb",
      "provenance": [],
      "toc_visible": true,
      "authorship_tag": "ABX9TyMMTyaD8e4LKRZyjsAbzWJu",
      "include_colab_link": true
    },
    "kernelspec": {
      "name": "python3",
      "display_name": "Python 3"
    }
  },
  "cells": [
    {
      "cell_type": "markdown",
      "metadata": {
        "id": "view-in-github",
        "colab_type": "text"
      },
      "source": [
        "<a href=\"https://colab.research.google.com/github/spatank/CIS-700/blob/master/Project/log_odds_corpus_level.ipynb\" target=\"_parent\"><img src=\"https://colab.research.google.com/assets/colab-badge.svg\" alt=\"Open In Colab\"/></a>"
      ]
    },
    {
      "cell_type": "code",
      "metadata": {
        "id": "8MVYuElf4GID",
        "colab_type": "code",
        "outputId": "d34b707c-53f1-46c2-a992-1d63f43aedbc",
        "colab": {
          "base_uri": "https://localhost:8080/",
          "height": 122
        }
      },
      "source": [
        "# Mount Google Drive\n",
        "from google.colab import drive\n",
        "drive.mount('/content/Drive', force_remount = True)"
      ],
      "execution_count": 1,
      "outputs": [
        {
          "output_type": "stream",
          "text": [
            "Go to this URL in a browser: https://accounts.google.com/o/oauth2/auth?client_id=947318989803-6bn6qk8qdgf4n4g3pfee6491hc0brc4i.apps.googleusercontent.com&redirect_uri=urn%3aietf%3awg%3aoauth%3a2.0%3aoob&response_type=code&scope=email%20https%3a%2f%2fwww.googleapis.com%2fauth%2fdocs.test%20https%3a%2f%2fwww.googleapis.com%2fauth%2fdrive%20https%3a%2f%2fwww.googleapis.com%2fauth%2fdrive.photos.readonly%20https%3a%2f%2fwww.googleapis.com%2fauth%2fpeopleapi.readonly\n",
            "\n",
            "Enter your authorization code:\n",
            "··········\n",
            "Mounted at /content/Drive\n"
          ],
          "name": "stdout"
        }
      ]
    },
    {
      "cell_type": "code",
      "metadata": {
        "id": "U9WdP-Wl4EjV",
        "colab_type": "code",
        "colab": {}
      },
      "source": [
        "import os\n",
        "os.chdir('/content/Drive/My Drive/CIS-700/')"
      ],
      "execution_count": 0,
      "outputs": []
    },
    {
      "cell_type": "code",
      "metadata": {
        "id": "mNNVobBb3MtG",
        "colab_type": "code",
        "outputId": "43fa4793-fa46-4b48-9afd-4188aec14774",
        "colab": {
          "base_uri": "https://localhost:8080/",
          "height": 136
        }
      },
      "source": [
        "!ls"
      ],
      "execution_count": 3,
      "outputs": [
        {
          "output_type": "stream",
          "text": [
            "Data\t\t\t\t  log_odds_corpus_level.ipynb\n",
            "draco_verb_network_ff.graphml\t  log_odds.ipynb\n",
            "global_A_large.mat\t\t  networks.ipynb\n",
            "global_verb_network_ff.graphml\t  __pycache__\n",
            "harry_verb_network_ff.graphml\t  ron_verb_network_ff.graphml\n",
            "hermione_verb_network_ff.graphml  util.py\n",
            "hp_narrative_chains.py\t\t  voldemort_verb_network_ff.graphml\n"
          ],
          "name": "stdout"
        }
      ]
    },
    {
      "cell_type": "code",
      "metadata": {
        "id": "tfucFDZkiECb",
        "colab_type": "code",
        "colab": {
          "base_uri": "https://localhost:8080/",
          "height": 153
        },
        "outputId": "631b71ea-f0f3-44fa-9718-bd0d9ddeb173"
      },
      "source": [
        "!ls Data"
      ],
      "execution_count": 4,
      "outputs": [
        {
          "output_type": "stream",
          "text": [
            "04212020\n",
            "04292020\n",
            "Canon\n",
            "hpcanon_sr_narrative_chains_counts_NNPs.txt\n",
            "hpc_raw_text.txt\n",
            "hpff_raw_text_reduced.txt\n",
            "hpff_raw_text.txt\n",
            "hpff_sr_narrative_chains_counts_NNPs_new.txt\n"
          ],
          "name": "stdout"
        }
      ]
    },
    {
      "cell_type": "code",
      "metadata": {
        "id": "mETATkADiG15",
        "colab_type": "code",
        "colab": {
          "base_uri": "https://localhost:8080/",
          "height": 68
        },
        "outputId": "ca58d54e-3e75-433a-be19-a2c144e81a04"
      },
      "source": [
        "import collections\n",
        "import nltk\n",
        "import numpy as np\n",
        "\n",
        "nltk.download('punkt')"
      ],
      "execution_count": 5,
      "outputs": [
        {
          "output_type": "stream",
          "text": [
            "[nltk_data] Downloading package punkt to /root/nltk_data...\n",
            "[nltk_data]   Unzipping tokenizers/punkt.zip.\n"
          ],
          "name": "stdout"
        },
        {
          "output_type": "execute_result",
          "data": {
            "text/plain": [
              "True"
            ]
          },
          "metadata": {
            "tags": []
          },
          "execution_count": 5
        }
      ]
    },
    {
      "cell_type": "code",
      "metadata": {
        "id": "BGQcjoEtiImn",
        "colab_type": "code",
        "colab": {}
      },
      "source": [
        "canon_word_counts = collections.Counter()\n",
        "\n",
        "with open('Data/hpc_raw_text.txt', encoding = 'utf-8', errors = 'ignore') as f:\n",
        "  for line in f:\n",
        "    words = nltk.word_tokenize(line.strip())\n",
        "    words_no_punctuation = [word.lower() for word in words if word.isalnum()]\n",
        "    canon_word_counts.update(words_no_punctuation)"
      ],
      "execution_count": 0,
      "outputs": []
    },
    {
      "cell_type": "code",
      "metadata": {
        "id": "-cos5X3Jqc49",
        "colab_type": "code",
        "colab": {}
      },
      "source": [
        "from itertools import islice\n",
        "\n",
        "corpus_path = 'Data/hpff_raw_text.txt'\n",
        "file = open(corpus_path, encoding = 'UTF-8', errors = 'ignore').readlines()\n",
        "file_len = len(file)\n",
        "num_lines_keep = round(0.10 * file_len)\n",
        "num_lines_discard = file_len - num_lines_keep\n",
        "lines_in_sets = [num_lines_keep, num_lines_discard]\n",
        "temp = iter(file) \n",
        "splits = [list(islice(temp, 0, ele)) for ele in lines_in_sets] \n",
        "# split 0 is data to keep\n",
        "with open('Data/hpff_raw_text_reduced.txt', 'w') as f:\n",
        "  for line in splits[0]:\n",
        "    f.write('%s\\n' % line)"
      ],
      "execution_count": 0,
      "outputs": []
    },
    {
      "cell_type": "code",
      "metadata": {
        "id": "WTWPprKZiVSW",
        "colab_type": "code",
        "colab": {}
      },
      "source": [
        "fan_fiction_word_counts = collections.Counter()\n",
        "\n",
        "with open('Data/hpff_raw_text_reduced.txt', encoding = 'utf-8', errors = 'ignore') as f:\n",
        "  for line in f:\n",
        "    words = nltk.word_tokenize(line.strip())\n",
        "    words_no_punctuation = [word.lower() for word in words if word.isalnum()]\n",
        "    fan_fiction_word_counts.update(words_no_punctuation)"
      ],
      "execution_count": 0,
      "outputs": []
    },
    {
      "cell_type": "code",
      "metadata": {
        "id": "B6JcWPi_tMTD",
        "colab_type": "code",
        "colab": {
          "base_uri": "https://localhost:8080/",
          "height": 34
        },
        "outputId": "d41e16bb-391f-4547-d1a0-b5c8865499eb"
      },
      "source": [
        "keys_a = set(canon_word_counts.keys())\n",
        "keys_b = set(fan_fiction_word_counts.keys())\n",
        "intersection = keys_a & keys_b # '&' operator is used for set intersection\n",
        "print(len(intersection))"
      ],
      "execution_count": 9,
      "outputs": [
        {
          "output_type": "stream",
          "text": [
            "19463\n"
          ],
          "name": "stdout"
        }
      ]
    },
    {
      "cell_type": "markdown",
      "metadata": {
        "id": "0ERBew5pk_ml",
        "colab_type": "text"
      },
      "source": [
        "What words appear more often in fan fiction than the canonical Harry Potter books?"
      ]
    },
    {
      "cell_type": "code",
      "metadata": {
        "id": "KgGMX9IAk3ZL",
        "colab_type": "code",
        "colab": {
          "base_uri": "https://localhost:8080/",
          "height": 71
        },
        "outputId": "3ddb7641-004c-4c08-f342-f5b4393a6b77"
      },
      "source": [
        "total_num_words_in_fan_fiction = sum(fan_fiction_word_counts.values())\n",
        "total_num_words_in_canon = sum(canon_word_counts.values())\n",
        "\n",
        "log_odds_data = {}\n",
        "\n",
        "for word in fan_fiction_word_counts.keys():\n",
        "  \n",
        "  count_fan_fiction = fan_fiction_word_counts[word]\n",
        "  count_canon = canon_word_counts[word]\n",
        "\n",
        "  log_prob_fan_fiction = np.log(count_fan_fiction) - np.log(total_num_words_in_fan_fiction)\n",
        "  log_prob_canon = np.log(count_canon) - np.log(total_num_words_in_canon)\n",
        "\n",
        "  if log_prob_canon != float(\"-inf\"):\n",
        "    log_odds = log_prob_fan_fiction - log_prob_canon\n",
        "    log_odds_data[word] = log_odds"
      ],
      "execution_count": 11,
      "outputs": [
        {
          "output_type": "stream",
          "text": [
            "/usr/local/lib/python3.6/dist-packages/ipykernel_launcher.py:12: RuntimeWarning: divide by zero encountered in log\n",
            "  if sys.path[0] == '':\n"
          ],
          "name": "stderr"
        }
      ]
    },
    {
      "cell_type": "code",
      "metadata": {
        "id": "D2wBq1XSsaKG",
        "colab_type": "code",
        "colab": {
          "base_uri": "https://localhost:8080/",
          "height": 867
        },
        "outputId": "0699d399-b8ee-4651-98ec-4a49fccc9ead"
      },
      "source": [
        "log_odds_tuples = [(word, log_odds) for word, log_odds in log_odds_data.items()]\n",
        "log_odds_tuples = sorted(log_odds_tuples, key=lambda x: x[1], reverse=True)\n",
        "\n",
        "for i in range(0, 50):\n",
        "  print(log_odds_tuples[i])"
      ],
      "execution_count": 12,
      "outputs": [
        {
          "output_type": "stream",
          "text": [
            "('scorpius', 5.50767680151591)\n",
            "('guy', 4.87872015645234)\n",
            "('alright', 4.801797083271262)\n",
            "('haired', 4.610930665714724)\n",
            "('figured', 4.507773400741616)\n",
            "('dorm', 4.474203815018763)\n",
            "('emma', 4.362182951238399)\n",
            "('hugo', 4.3188274752575)\n",
            "('amy', 4.314108521323547)\n",
            "('anyways', 4.241412163135381)\n",
            "('shit', 4.2333003566000045)\n",
            "('colour', 3.883710788518899)\n",
            "('characters', 3.8811400930157998)\n",
            "('uh', 3.8484360665979906)\n",
            "('victoire', 3.7774941084252127)\n",
            "('iris', 3.7767800776915568)\n",
            "('trio', 3.7164232771506587)\n",
            "('evan', 3.67141956203373)\n",
            "('defence', 3.617616856040753)\n",
            "('commented', 3.604125926299739)\n",
            "('marlene', 3.5870022202211462)\n",
            "('alice', 3.5820967133417216)\n",
            "('crap', 3.5748387340279493)\n",
            "('honey', 3.566059046375903)\n",
            "('dorcas', 3.5607539941462107)\n",
            "('wards', 3.5572015925418423)\n",
            "('arse', 3.5301485450701318)\n",
            "('ok', 3.430257505216842)\n",
            "('kisses', 3.4262089166908414)\n",
            "('blaise', 3.414648094289765)\n",
            "('review', 3.40031883285398)\n",
            "('besides', 3.3763025110944316)\n",
            "('catherine', 3.359820590157657)\n",
            "('dating', 3.348192552162537)\n",
            "('awhile', 3.284822938229949)\n",
            "('voldermort', 3.2539782628788494)\n",
            "('theodore', 3.2515657164734666)\n",
            "('hazel', 3.227114620609301)\n",
            "('andrew', 3.2045855075492735)\n",
            "('kinda', 3.1944073026335165)\n",
            "('bastard', 3.1892790862665965)\n",
            "('freddie', 3.1763422952358784)\n",
            "('replies', 3.1605939382677395)\n",
            "('messy', 3.1486177472210244)\n",
            "('shirt', 3.145936780467766)\n",
            "('accent', 3.1445935969212986)\n",
            "('ellie', 3.1392027482864204)\n",
            "('chapters', 3.1269660218379833)\n",
            "('john', 3.11596178424697)\n",
            "('whilst', 3.1118037740983073)\n"
          ],
          "name": "stdout"
        }
      ]
    }
  ]
}