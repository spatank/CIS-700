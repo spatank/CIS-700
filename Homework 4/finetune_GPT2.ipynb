{
  "nbformat": 4,
  "nbformat_minor": 0,
  "metadata": {
    "colab": {
      "name": "finetune_GPT2",
      "provenance": [],
      "collapsed_sections": [],
      "toc_visible": true,
      "include_colab_link": true
    },
    "kernelspec": {
      "name": "python3",
      "display_name": "Python 3"
    },
    "accelerator": "GPU"
  },
  "cells": [
    {
      "cell_type": "markdown",
      "metadata": {
        "id": "view-in-github",
        "colab_type": "text"
      },
      "source": [
        "<a href=\"https://colab.research.google.com/github/spatank/CIS-700/blob/master/Homework%204/finetune_GPT2.ipynb\" target=\"_parent\"><img src=\"https://colab.research.google.com/assets/colab-badge.svg\" alt=\"Open In Colab\"/></a>"
      ]
    },
    {
      "cell_type": "markdown",
      "metadata": {
        "id": "qK_lPvRlBdMB",
        "colab_type": "text"
      },
      "source": [
        "# Homework 4 - Finetune GPT-2\n",
        "This colab demonstrates how to fine-tune GPT-2 on a dataset of presidential speeches. We use the [Hugging Face Transformer](https://github.com/huggingface/transformers) library in order to do this.\n",
        "\n",
        "**IMPORTANT: Make sure that you have GPU set as your Hardware Accelerator in `Runtime > Change runtime type` before running this Colab.**"
      ]
    },
    {
      "cell_type": "markdown",
      "metadata": {
        "id": "biV1z0koaDHT",
        "colab_type": "text"
      },
      "source": [
        "## Setup"
      ]
    },
    {
      "cell_type": "markdown",
      "metadata": {
        "id": "EGscdaCtpmbV",
        "colab_type": "text"
      },
      "source": [
        "### Install HuggingFace Transfomers library."
      ]
    },
    {
      "cell_type": "code",
      "metadata": {
        "id": "uicio9FLPv5j",
        "colab_type": "code",
        "outputId": "0689021e-646c-44c9-b7a7-6c7c20acde39",
        "colab": {
          "base_uri": "https://localhost:8080/",
          "height": 1000
        }
      },
      "source": [
        "!git clone https://github.com/huggingface/transformers\n",
        "\n",
        "import os\n",
        "os.chdir('/content/transformers')\n",
        "\n",
        "!pip install .\n",
        "!pip install -r ./examples/requirements.txt\n",
        "\n",
        "os.chdir('/content/transformers/examples')\n",
        "\n",
        "!pip install dict_to_obj"
      ],
      "execution_count": 1,
      "outputs": [
        {
          "output_type": "stream",
          "text": [
            "Cloning into 'transformers'...\n",
            "remote: Enumerating objects: 99, done.\u001b[K\n",
            "remote: Counting objects: 100% (99/99), done.\u001b[K\n",
            "remote: Compressing objects: 100% (39/39), done.\u001b[K\n",
            "remote: Total 20817 (delta 56), reused 82 (delta 47), pack-reused 20718\u001b[K\n",
            "Receiving objects: 100% (20817/20817), 12.33 MiB | 13.36 MiB/s, done.\n",
            "Resolving deltas: 100% (15053/15053), done.\n",
            "Processing /content/transformers\n",
            "Requirement already satisfied: numpy in /usr/local/lib/python3.6/dist-packages (from transformers==2.5.1) (1.17.5)\n",
            "Collecting tokenizers==0.5.2\n",
            "\u001b[?25l  Downloading https://files.pythonhosted.org/packages/d1/3f/73c881ea4723e43c1e9acf317cf407fab3a278daab3a69c98dcac511c04f/tokenizers-0.5.2-cp36-cp36m-manylinux1_x86_64.whl (3.7MB)\n",
            "\u001b[K     |████████████████████████████████| 3.7MB 7.5MB/s \n",
            "\u001b[?25hRequirement already satisfied: boto3 in /usr/local/lib/python3.6/dist-packages (from transformers==2.5.1) (1.11.15)\n",
            "Requirement already satisfied: filelock in /usr/local/lib/python3.6/dist-packages (from transformers==2.5.1) (3.0.12)\n",
            "Requirement already satisfied: requests in /usr/local/lib/python3.6/dist-packages (from transformers==2.5.1) (2.21.0)\n",
            "Requirement already satisfied: tqdm>=4.27 in /usr/local/lib/python3.6/dist-packages (from transformers==2.5.1) (4.28.1)\n",
            "Requirement already satisfied: regex!=2019.12.17 in /usr/local/lib/python3.6/dist-packages (from transformers==2.5.1) (2019.12.20)\n",
            "Collecting sentencepiece\n",
            "\u001b[?25l  Downloading https://files.pythonhosted.org/packages/74/f4/2d5214cbf13d06e7cb2c20d84115ca25b53ea76fa1f0ade0e3c9749de214/sentencepiece-0.1.85-cp36-cp36m-manylinux1_x86_64.whl (1.0MB)\n",
            "\u001b[K     |████████████████████████████████| 1.0MB 48.6MB/s \n",
            "\u001b[?25hCollecting sacremoses\n",
            "\u001b[?25l  Downloading https://files.pythonhosted.org/packages/a6/b4/7a41d630547a4afd58143597d5a49e07bfd4c42914d8335b2a5657efc14b/sacremoses-0.0.38.tar.gz (860kB)\n",
            "\u001b[K     |████████████████████████████████| 870kB 45.1MB/s \n",
            "\u001b[?25hRequirement already satisfied: jmespath<1.0.0,>=0.7.1 in /usr/local/lib/python3.6/dist-packages (from boto3->transformers==2.5.1) (0.9.4)\n",
            "Requirement already satisfied: botocore<1.15.0,>=1.14.15 in /usr/local/lib/python3.6/dist-packages (from boto3->transformers==2.5.1) (1.14.15)\n",
            "Requirement already satisfied: s3transfer<0.4.0,>=0.3.0 in /usr/local/lib/python3.6/dist-packages (from boto3->transformers==2.5.1) (0.3.3)\n",
            "Requirement already satisfied: certifi>=2017.4.17 in /usr/local/lib/python3.6/dist-packages (from requests->transformers==2.5.1) (2019.11.28)\n",
            "Requirement already satisfied: urllib3<1.25,>=1.21.1 in /usr/local/lib/python3.6/dist-packages (from requests->transformers==2.5.1) (1.24.3)\n",
            "Requirement already satisfied: chardet<3.1.0,>=3.0.2 in /usr/local/lib/python3.6/dist-packages (from requests->transformers==2.5.1) (3.0.4)\n",
            "Requirement already satisfied: idna<2.9,>=2.5 in /usr/local/lib/python3.6/dist-packages (from requests->transformers==2.5.1) (2.8)\n",
            "Requirement already satisfied: six in /usr/local/lib/python3.6/dist-packages (from sacremoses->transformers==2.5.1) (1.12.0)\n",
            "Requirement already satisfied: click in /usr/local/lib/python3.6/dist-packages (from sacremoses->transformers==2.5.1) (7.0)\n",
            "Requirement already satisfied: joblib in /usr/local/lib/python3.6/dist-packages (from sacremoses->transformers==2.5.1) (0.14.1)\n",
            "Requirement already satisfied: docutils<0.16,>=0.10 in /usr/local/lib/python3.6/dist-packages (from botocore<1.15.0,>=1.14.15->boto3->transformers==2.5.1) (0.15.2)\n",
            "Requirement already satisfied: python-dateutil<3.0.0,>=2.1 in /usr/local/lib/python3.6/dist-packages (from botocore<1.15.0,>=1.14.15->boto3->transformers==2.5.1) (2.6.1)\n",
            "Building wheels for collected packages: transformers, sacremoses\n",
            "  Building wheel for transformers (setup.py) ... \u001b[?25l\u001b[?25hdone\n",
            "  Created wheel for transformers: filename=transformers-2.5.1-cp36-none-any.whl size=505540 sha256=5d71f76fbdf5e5c093047ba8afbe92b05051c5c68904bd846f48bf53ca546970\n",
            "  Stored in directory: /tmp/pip-ephem-wheel-cache-hi_icl9r/wheels/23/19/dd/2561a4e47240cf6b307729d58e56f8077dd0c698f5992216cf\n",
            "  Building wheel for sacremoses (setup.py) ... \u001b[?25l\u001b[?25hdone\n",
            "  Created wheel for sacremoses: filename=sacremoses-0.0.38-cp36-none-any.whl size=884628 sha256=4d46c9d271d628227c9352b41e3f99fbf1ad06724002bbfa1e0488d76d53ca56\n",
            "  Stored in directory: /root/.cache/pip/wheels/6d/ec/1a/21b8912e35e02741306f35f66c785f3afe94de754a0eaf1422\n",
            "Successfully built transformers sacremoses\n",
            "Installing collected packages: tokenizers, sentencepiece, sacremoses, transformers\n",
            "Successfully installed sacremoses-0.0.38 sentencepiece-0.1.85 tokenizers-0.5.2 transformers-2.5.1\n",
            "Collecting tensorboardX\n",
            "\u001b[?25l  Downloading https://files.pythonhosted.org/packages/35/f1/5843425495765c8c2dd0784a851a93ef204d314fc87bcc2bbb9f662a3ad1/tensorboardX-2.0-py2.py3-none-any.whl (195kB)\n",
            "\u001b[K     |████████████████████████████████| 204kB 6.4MB/s \n",
            "\u001b[?25hRequirement already satisfied: tensorboard in /usr/local/lib/python3.6/dist-packages (from -r ./examples/requirements.txt (line 2)) (1.15.0)\n",
            "Requirement already satisfied: scikit-learn in /usr/local/lib/python3.6/dist-packages (from -r ./examples/requirements.txt (line 3)) (0.22.1)\n",
            "Collecting seqeval\n",
            "  Downloading https://files.pythonhosted.org/packages/34/91/068aca8d60ce56dd9ba4506850e876aba5e66a6f2f29aa223224b50df0de/seqeval-0.0.12.tar.gz\n",
            "Requirement already satisfied: six in /usr/local/lib/python3.6/dist-packages (from tensorboardX->-r ./examples/requirements.txt (line 1)) (1.12.0)\n",
            "Requirement already satisfied: protobuf>=3.8.0 in /usr/local/lib/python3.6/dist-packages (from tensorboardX->-r ./examples/requirements.txt (line 1)) (3.10.0)\n",
            "Requirement already satisfied: numpy in /usr/local/lib/python3.6/dist-packages (from tensorboardX->-r ./examples/requirements.txt (line 1)) (1.17.5)\n",
            "Requirement already satisfied: grpcio>=1.6.3 in /usr/local/lib/python3.6/dist-packages (from tensorboard->-r ./examples/requirements.txt (line 2)) (1.27.1)\n",
            "Requirement already satisfied: werkzeug>=0.11.15 in /usr/local/lib/python3.6/dist-packages (from tensorboard->-r ./examples/requirements.txt (line 2)) (1.0.0)\n",
            "Requirement already satisfied: markdown>=2.6.8 in /usr/local/lib/python3.6/dist-packages (from tensorboard->-r ./examples/requirements.txt (line 2)) (3.2.1)\n",
            "Requirement already satisfied: setuptools>=41.0.0 in /usr/local/lib/python3.6/dist-packages (from tensorboard->-r ./examples/requirements.txt (line 2)) (45.1.0)\n",
            "Requirement already satisfied: absl-py>=0.4 in /usr/local/lib/python3.6/dist-packages (from tensorboard->-r ./examples/requirements.txt (line 2)) (0.9.0)\n",
            "Requirement already satisfied: wheel>=0.26; python_version >= \"3\" in /usr/local/lib/python3.6/dist-packages (from tensorboard->-r ./examples/requirements.txt (line 2)) (0.34.2)\n",
            "Requirement already satisfied: scipy>=0.17.0 in /usr/local/lib/python3.6/dist-packages (from scikit-learn->-r ./examples/requirements.txt (line 3)) (1.4.1)\n",
            "Requirement already satisfied: joblib>=0.11 in /usr/local/lib/python3.6/dist-packages (from scikit-learn->-r ./examples/requirements.txt (line 3)) (0.14.1)\n",
            "Requirement already satisfied: Keras>=2.2.4 in /usr/local/lib/python3.6/dist-packages (from seqeval->-r ./examples/requirements.txt (line 4)) (2.2.5)\n",
            "Requirement already satisfied: pyyaml in /usr/local/lib/python3.6/dist-packages (from Keras>=2.2.4->seqeval->-r ./examples/requirements.txt (line 4)) (3.13)\n",
            "Requirement already satisfied: keras-preprocessing>=1.1.0 in /usr/local/lib/python3.6/dist-packages (from Keras>=2.2.4->seqeval->-r ./examples/requirements.txt (line 4)) (1.1.0)\n",
            "Requirement already satisfied: h5py in /usr/local/lib/python3.6/dist-packages (from Keras>=2.2.4->seqeval->-r ./examples/requirements.txt (line 4)) (2.8.0)\n",
            "Requirement already satisfied: keras-applications>=1.0.8 in /usr/local/lib/python3.6/dist-packages (from Keras>=2.2.4->seqeval->-r ./examples/requirements.txt (line 4)) (1.0.8)\n",
            "Building wheels for collected packages: seqeval\n",
            "  Building wheel for seqeval (setup.py) ... \u001b[?25l\u001b[?25hdone\n",
            "  Created wheel for seqeval: filename=seqeval-0.0.12-cp36-none-any.whl size=7424 sha256=24777e9455df5c91e80afbfffc4751103e324048461501594ff83ea27b109796\n",
            "  Stored in directory: /root/.cache/pip/wheels/4f/32/0a/df3b340a82583566975377d65e724895b3fad101a3fb729f68\n",
            "Successfully built seqeval\n",
            "Installing collected packages: tensorboardX, seqeval\n",
            "Successfully installed seqeval-0.0.12 tensorboardX-2.0\n",
            "Collecting dict_to_obj\n",
            "  Downloading https://files.pythonhosted.org/packages/71/84/95cb71e10a1627076f6e2ba6cd81683e4ba344a885aa2d8b38a9a33f53c4/dict_to_obj-0.0.2.tar.gz\n",
            "Building wheels for collected packages: dict-to-obj\n",
            "  Building wheel for dict-to-obj (setup.py) ... \u001b[?25l\u001b[?25hdone\n",
            "  Created wheel for dict-to-obj: filename=dict_to_obj-0.0.2-cp36-none-any.whl size=1444 sha256=77532c6a51376dcf1d947e54e6fd5380a47f60be0ea5b9f48162dffb9dae2921\n",
            "  Stored in directory: /root/.cache/pip/wheels/ea/71/a8/727ff01010936e40001af4c79983f505aecb5f271faa91c3e3\n",
            "Successfully built dict-to-obj\n",
            "Installing collected packages: dict-to-obj\n",
            "Successfully installed dict-to-obj-0.0.2\n"
          ],
          "name": "stdout"
        }
      ]
    },
    {
      "cell_type": "code",
      "metadata": {
        "id": "weh0BoPfk1zc",
        "colab_type": "code",
        "outputId": "f3aa843c-8d78-4e00-f027-6451e329e55a",
        "colab": {
          "base_uri": "https://localhost:8080/",
          "height": 63
        }
      },
      "source": [
        "import torch\n",
        "import run_language_modeling\n",
        "import run_generation\n",
        "from dict_to_obj import DictToObj\n",
        "import collections\n",
        "import random\n",
        "import numpy as np"
      ],
      "execution_count": 2,
      "outputs": [
        {
          "output_type": "display_data",
          "data": {
            "text/html": [
              "<p style=\"color: red;\">\n",
              "The default version of TensorFlow in Colab will soon switch to TensorFlow 2.x.<br>\n",
              "We recommend you <a href=\"https://www.tensorflow.org/guide/migrate\" target=\"_blank\">upgrade</a> now \n",
              "or ensure your notebook will continue to use TensorFlow 1.x via the <code>%tensorflow_version 1.x</code> magic:\n",
              "<a href=\"https://colab.research.google.com/notebooks/tensorflow_version.ipynb\" target=\"_blank\">more info</a>.</p>\n"
            ],
            "text/plain": [
              "<IPython.core.display.HTML object>"
            ]
          },
          "metadata": {
            "tags": []
          }
        }
      ]
    },
    {
      "cell_type": "markdown",
      "metadata": {
        "id": "aX2LEl-uwMXp",
        "colab_type": "text"
      },
      "source": [
        "### Mount your Google Drive\n",
        "We will be saving trained checkpoints on your Google Drive so that they can be accessed even if the Colab session dies. Make sure to login with your UPenn credentials, as you will be saving several gigabytes of data, and Penn gives you unlimited Drive storage."
      ]
    },
    {
      "cell_type": "code",
      "metadata": {
        "id": "oQ6FFHiMMP0V",
        "colab_type": "code",
        "outputId": "e4fde34c-ed06-4126-8842-20cfc7398a5a",
        "colab": {
          "base_uri": "https://localhost:8080/",
          "height": 122
        }
      },
      "source": [
        "from google.colab import drive\n",
        "drive.mount('/content/drive')"
      ],
      "execution_count": 3,
      "outputs": [
        {
          "output_type": "stream",
          "text": [
            "Go to this URL in a browser: https://accounts.google.com/o/oauth2/auth?client_id=947318989803-6bn6qk8qdgf4n4g3pfee6491hc0brc4i.apps.googleusercontent.com&redirect_uri=urn%3aietf%3awg%3aoauth%3a2.0%3aoob&response_type=code&scope=email%20https%3a%2f%2fwww.googleapis.com%2fauth%2fdocs.test%20https%3a%2f%2fwww.googleapis.com%2fauth%2fdrive%20https%3a%2f%2fwww.googleapis.com%2fauth%2fdrive.photos.readonly%20https%3a%2f%2fwww.googleapis.com%2fauth%2fpeopleapi.readonly\n",
            "\n",
            "Enter your authorization code:\n",
            "··········\n",
            "Mounted at /content/drive\n"
          ],
          "name": "stdout"
        }
      ]
    },
    {
      "cell_type": "markdown",
      "metadata": {
        "id": "bEuEqWOhwn-a",
        "colab_type": "text"
      },
      "source": [
        "### Download presidential speech data.\n",
        "It's already been split into a train, valid, and test set for you."
      ]
    },
    {
      "cell_type": "code",
      "metadata": {
        "id": "2GzNXh7ap_R3",
        "colab_type": "code",
        "outputId": "91020cd9-b9b3-4826-8a90-b3597a1e46ee",
        "colab": {
          "base_uri": "https://localhost:8080/",
          "height": 598
        }
      },
      "source": [
        "# Download the train and test set.\n",
        "!wget -nc -O /content/presidential_speeches_test.txt https://raw.githubusercontent.com/interactive-fiction-class/interactive-fiction-class.github.io/master/homeworks/language-model/presidential_speeches_test.txt\n",
        "!wget -nc -O /content/presidential_speeches_valid.txt https://raw.githubusercontent.com/interactive-fiction-class/interactive-fiction-class.github.io/master/homeworks/language-model/presidential_speeches_valid.txt\n",
        "!wget -nc -O /content/presidential_speeches_train.txt https://raw.githubusercontent.com/interactive-fiction-class/interactive-fiction-class.github.io/master/homeworks/language-model/presidential_speeches_train.txt"
      ],
      "execution_count": 4,
      "outputs": [
        {
          "output_type": "stream",
          "text": [
            "--2020-02-28 09:22:46--  https://raw.githubusercontent.com/interactive-fiction-class/interactive-fiction-class.github.io/master/homeworks/language-model/presidential_speeches_test.txt\n",
            "Resolving raw.githubusercontent.com (raw.githubusercontent.com)... 151.101.0.133, 151.101.64.133, 151.101.128.133, ...\n",
            "Connecting to raw.githubusercontent.com (raw.githubusercontent.com)|151.101.0.133|:443... connected.\n",
            "HTTP request sent, awaiting response... 200 OK\n",
            "Length: 622537 (608K) [text/plain]\n",
            "Saving to: ‘/content/presidential_speeches_test.txt’\n",
            "\n",
            "\r          /content/   0%[                    ]       0  --.-KB/s               \r/content/presidenti 100%[===================>] 607.95K  --.-KB/s    in 0.02s   \n",
            "\n",
            "2020-02-28 09:22:46 (24.6 MB/s) - ‘/content/presidential_speeches_test.txt’ saved [622537/622537]\n",
            "\n",
            "--2020-02-28 09:22:48--  https://raw.githubusercontent.com/interactive-fiction-class/interactive-fiction-class.github.io/master/homeworks/language-model/presidential_speeches_valid.txt\n",
            "Resolving raw.githubusercontent.com (raw.githubusercontent.com)... 151.101.0.133, 151.101.64.133, 151.101.128.133, ...\n",
            "Connecting to raw.githubusercontent.com (raw.githubusercontent.com)|151.101.0.133|:443... connected.\n",
            "HTTP request sent, awaiting response... 200 OK\n",
            "Length: 1117165 (1.1M) [text/plain]\n",
            "Saving to: ‘/content/presidential_speeches_valid.txt’\n",
            "\n",
            "/content/presidenti 100%[===================>]   1.06M  --.-KB/s    in 0.04s   \n",
            "\n",
            "2020-02-28 09:22:49 (24.9 MB/s) - ‘/content/presidential_speeches_valid.txt’ saved [1117165/1117165]\n",
            "\n",
            "--2020-02-28 09:22:51--  https://raw.githubusercontent.com/interactive-fiction-class/interactive-fiction-class.github.io/master/homeworks/language-model/presidential_speeches_train.txt\n",
            "Resolving raw.githubusercontent.com (raw.githubusercontent.com)... 151.101.0.133, 151.101.64.133, 151.101.128.133, ...\n",
            "Connecting to raw.githubusercontent.com (raw.githubusercontent.com)|151.101.0.133|:443... connected.\n",
            "HTTP request sent, awaiting response... 200 OK\n",
            "Length: 20269025 (19M) [text/plain]\n",
            "Saving to: ‘/content/presidential_speeches_train.txt’\n",
            "\n",
            "/content/presidenti 100%[===================>]  19.33M  70.8MB/s    in 0.3s    \n",
            "\n",
            "2020-02-28 09:22:52 (70.8 MB/s) - ‘/content/presidential_speeches_train.txt’ saved [20269025/20269025]\n",
            "\n"
          ],
          "name": "stdout"
        }
      ]
    },
    {
      "cell_type": "code",
      "metadata": {
        "id": "y1qodZBoRPgY",
        "colab_type": "code",
        "outputId": "e90b35e2-98b4-4838-d797-d424d4d61dad",
        "colab": {
          "base_uri": "https://localhost:8080/",
          "height": 51
        }
      },
      "source": [
        "!ls '/content/'"
      ],
      "execution_count": 5,
      "outputs": [
        {
          "output_type": "stream",
          "text": [
            "drive\t\t\t\tpresidential_speeches_train.txt  sample_data\n",
            "presidential_speeches_test.txt\tpresidential_speeches_valid.txt  transformers\n"
          ],
          "name": "stdout"
        }
      ]
    },
    {
      "cell_type": "markdown",
      "metadata": {
        "id": "8VzV8iTrphJl",
        "colab_type": "text"
      },
      "source": [
        "## Finetune and Eval\n",
        "The Hugging Face library provides a script [run_language_modeling.py](https://github.com/huggingface/transformers/blob/master/examples/run_language_modeling.py) which contains all of the code for training and evaluating a language model.\n",
        "\n",
        "We will be calling this script directly from the command line in order to launch training. We will also use functions from this script to conduct evaluation and generate samples at inference time."
      ]
    },
    {
      "cell_type": "markdown",
      "metadata": {
        "id": "xOzFhwDSqOg3",
        "colab_type": "text"
      },
      "source": [
        "### Launch fine-tuninng\n",
        "We will be calling `run_language_modeling.py` from the command line to launch fine-tuning, **Running fine-tuning may take several hours.** Every `save_steps` steps, a checkpoint is saved to disk. The checkpoint contains all the learned weights for your model, and you can  always reload the model from a saved checkpoint, even if your Colab has crashed.\n",
        "\n",
        "Below is an explanation of some of the arguments you might want to modify in the command below. \n",
        "\n",
        "* `--line_by_line`: Add `--line_by_line` if distinct lines of the text should be treated as distinct training examples. For example, if your dataset contains one story/tweet/article per line, this should be set.\n",
        "* `--num_train_epochs`: The number of times to iterate over the train set. Increasing the number of epochs may result in better performance, but making this number too high will cause the model to overfit on the train set.\n",
        "* `--block_size`: Your training text is truncated into blocks of this length. At test time, you will only want to generate sequences that are at most this length.\n",
        "* `--gradient_accumulation_steps`: Update the model weights every this many steps. You shold set this to >1 when the batch size is very small to improve training stability.\n",
        "* `--output_dir`: This is the where checkpoints will get saved. When you finetune on your own dataset, you should change this path. We recommend saving checkpoints to your Google Drive (`/content/drive/My Drive/`) so you can access them even if the Colab session dies.\n",
        "* `--model_name_or_path` The path to the model weights to use when starting fine-tuning. You can set this to `gpt2-medium` to initialize with GPT-2's 355 million parameter model, or `gpt2` to initialize with their smaller 124 million parameter model. You can also set this to one of your own checkpoints to restart your training job if it crashes.\n",
        "\n",
        "**I am getting out-of memory errors. What do I do?**\n",
        "\n",
        "The number of trainable paramters in the model is a function of the `block_size` and the `batch_size`. If you are getting out-of-memory errors, then try drecreasing these value.\n",
        "\n",
        "**Oh no! My computer went to sleep and the Colab disconnected.**\n",
        "\n",
        "The train job might have still completed. Check the `output_dir` in your Google Drive to see if checkpoint files have been created there.\n",
        "\n",
        "**Training is taking foreverrrrrr.**\n",
        "\n",
        "Try decreasing `num_train_epochs` or changing `model_name_or_path` to `gpt2` instead of `gpt2-medium`.\n",
        "If your evaluation set is very large, you might also want to remove the `evaluate_during_training` flag or increase `logging_steps`."
      ]
    },
    {
      "cell_type": "code",
      "metadata": {
        "id": "C33GutF1QVEV",
        "colab_type": "code",
        "colab": {}
      },
      "source": [
        "# !python run_language_modeling.py \\\n",
        "#     --output_dir='/content/drive/My Drive/finetuned_models/presidential_speeches' \\\n",
        "#     --model_type=gpt2 \\\n",
        "#     --model_name_or_path=gpt2-medium \\\n",
        "#     --save_total_limit=5 \\\n",
        "#     --num_train_epochs=1.0 \\\n",
        "#     --do_train \\\n",
        "#     --evaluate_during_training \\\n",
        "#     --logging_steps=500 \\\n",
        "#     --save_steps=500 \\\n",
        "#     --train_data_file=/content/presidential_speeches_train.txt \\\n",
        "#     --do_eval \\\n",
        "#     --eval_data_file=/content/presidential_speeches_valid.txt \\\n",
        "#     --per_gpu_train_batch_size=2 \\\n",
        "#     --per_gpu_eval_batch_size=2 \\\n",
        "#     --block_size=128 \\\n",
        "#     --gradient_accumulation_steps=5"
      ],
      "execution_count": 0,
      "outputs": []
    },
    {
      "cell_type": "markdown",
      "metadata": {
        "id": "Q9mAiosB2wBm",
        "colab_type": "text"
      },
      "source": [
        "### Compute perplexity of a dataset.\n",
        "This section shows how to compute perplexity of a dataset according to either the pre-trained or your fine-tuned language model. While this is possible to do by calling `run_language_modeling.py` on the command-line as above, we'll instead call the Python functions directly."
      ]
    },
    {
      "cell_type": "markdown",
      "metadata": {
        "id": "eiqSgGhtcDNd",
        "colab_type": "text"
      },
      "source": [
        "#### Look at what checkpoints are available\n",
        "Run `ls` to look at what checkpoints saved been saved. You'll want to set `CHECKPOINT_PATH` below to one of these in order to evaluate the model weights saved in that checkpoint."
      ]
    },
    {
      "cell_type": "code",
      "metadata": {
        "id": "zk_qHytBIETo",
        "colab_type": "code",
        "outputId": "86798718-7932-4ded-d2e5-84aad8facb4e",
        "colab": {
          "base_uri": "https://localhost:8080/",
          "height": 85
        }
      },
      "source": [
        "!ls '/content/drive/My Drive/finetuned_models/presidential_speeches'"
      ],
      "execution_count": 7,
      "outputs": [
        {
          "output_type": "stream",
          "text": [
            "checkpoint-1000  checkpoint-3000   pytorch_model.bin\t    vocab.json\n",
            "checkpoint-1500  config.json\t   special_tokens_map.json\n",
            "checkpoint-2000  eval_results.txt  tokenizer_config.json\n",
            "checkpoint-2500  merges.txt\t   training_args.bin\n"
          ],
          "name": "stdout"
        }
      ]
    },
    {
      "cell_type": "code",
      "metadata": {
        "id": "dr-uC8-5Q8zU",
        "colab_type": "code",
        "outputId": "121a8579-fdf3-4381-db71-22146601cfde",
        "colab": {
          "base_uri": "https://localhost:8080/",
          "height": 102
        }
      },
      "source": [
        "!ls '/content/transformers/'"
      ],
      "execution_count": 8,
      "outputs": [
        {
          "output_type": "stream",
          "text": [
            "CONTRIBUTING.md\t\t     hubconf.py   notebooks  templates\n",
            "deploy_multi_version_doc.sh  LICENSE\t  README.md  tests\n",
            "docker\t\t\t     Makefile\t  setup.cfg  transformers-cli\n",
            "docs\t\t\t     MANIFEST.in  setup.py   utils\n",
            "examples\t\t     model_cards  src\t     valohai.yaml\n"
          ],
          "name": "stdout"
        }
      ]
    },
    {
      "cell_type": "markdown",
      "metadata": {
        "id": "TRFwV1Ry3Evk",
        "colab_type": "text"
      },
      "source": [
        "#### Helper functions"
      ]
    },
    {
      "cell_type": "code",
      "metadata": {
        "id": "sc2VCFBG3pFf",
        "colab_type": "code",
        "colab": {}
      },
      "source": [
        "def load_model(args):\n",
        "  \"\"\"Creates a model and loads in weights for it.\"\"\"\n",
        "  config_class, model_class, _ = run_language_modeling.MODEL_CLASSES[args.model_type]\n",
        "  config = config_class.from_pretrained(args.model_name_or_path, cache_dir=None)\n",
        "\n",
        "  model = model_class.from_pretrained(\n",
        "      args.model_name_or_path,\n",
        "      from_tf=bool(\".ckpt\" in args.model_name_or_path),\n",
        "      config=config,\n",
        "      cache_dir=None,\n",
        "  )\n",
        "  model.to(args.device)\n",
        "  return model\n",
        "\n",
        "def set_seed(seed):\n",
        "  \"\"\"Set the random seed.\"\"\"\n",
        "  random.seed(seed)\n",
        "  np.random.seed(seed)\n",
        "  torch.manual_seed(seed)\n",
        "  if args.n_gpu > 0:\n",
        "        torch.cuda.manual_seed_all(args.seed)\n",
        "\n",
        "def do_perplexity_eval(args, model, data_file_path):\n",
        "  \"\"\"Computes the perplexity of the text in data_file_path according to the provided model.\"\"\"\n",
        "  set_seed(args.seed)\n",
        "\n",
        "  args.eval_data_file=data_file_path\n",
        "\n",
        "  _, _, tokenizer_class = run_language_modeling.MODEL_CLASSES[args.model_type]\n",
        "  tokenizer = tokenizer_class.from_pretrained(args.model_name_or_path, cache_dir=None)\n",
        "\n",
        "  args.block_size = min(args.block_size, tokenizer.max_len)\n",
        "\n",
        "  result = run_language_modeling.evaluate(args, model, tokenizer, prefix=\"\")\n",
        "  return result"
      ],
      "execution_count": 0,
      "outputs": []
    },
    {
      "cell_type": "markdown",
      "metadata": {
        "id": "kClE2Px-j9bb",
        "colab_type": "text"
      },
      "source": [
        "#### Compute it."
      ]
    },
    {
      "cell_type": "code",
      "metadata": {
        "id": "ERCKSncEBYgJ",
        "colab_type": "code",
        "colab": {}
      },
      "source": [
        "# # Set this to the checkpoint you want to evalute, or to \"gpt2-medium\" to\n",
        "# # evaluate the pre-trained model without finetuning.\n",
        "# # CHECKPOINT_PATH = '/content/drive/My Drive/finetuned_models/presidential_speeches/checkpoint-1500'\n",
        "# # CHECKPOINT_PATH = '/content/drive/My Drive/finetuned_models/presidential_speeches/checkpoint-3000'\n",
        "# CHECKPOINT_PATH = \"gpt2-medium\"\n",
        "\n",
        "# # Set this to the list of text files you want to evaluate the perplexity of.\n",
        "# DATA_PATHS = [\"/content/presidential_speeches_valid.txt\",\n",
        "#               \"/content/presidential_speeches_test.txt\"]\n",
        "\n",
        "# device = torch.device(\"cuda\" if torch.cuda.is_available() else \"cpu\")\n",
        "# n_gpu = torch.cuda.device_count()\n",
        "# print(\"Running on device: \", device)\n",
        "\n",
        "# args = collections.defaultdict(\n",
        "#   model_name_or_path=CHECKPOINT_PATH,\n",
        "#   output_dir=CHECKPOINT_PATH,\n",
        "#   block_size = 128,\n",
        "#   local_rank=-1,\n",
        "#   eval_batch_size=2,\n",
        "#   per_gpu_eval_batch_size=2,\n",
        "#   n_gpu=n_gpu,\n",
        "#   mlm=False,\n",
        "#   device=device,\n",
        "#   line_by_line=False,\n",
        "#   overwrite_cache=None,\n",
        "#   model_type='gpt2',\n",
        "#   seed=42,\n",
        "# )\n",
        "# args = DictToObj(args)\n",
        "\n",
        "# model = load_model(args)\n",
        "\n",
        "# for data_path in DATA_PATHS:\n",
        "#   eval_results = do_perplexity_eval(args, model, data_path)\n",
        "#   perplexity = eval_results['perplexity']\n",
        "#   print('{} is the perplexity of {} according to {}'.format(\n",
        "#       perplexity, data_path, CHECKPOINT_PATH))"
      ],
      "execution_count": 0,
      "outputs": []
    },
    {
      "cell_type": "markdown",
      "metadata": {
        "id": "AnjTkrTHSECQ",
        "colab_type": "text"
      },
      "source": [
        "**Fine-tuned Model on Presidential Speeches**\n",
        "\n",
        "20.004369735717773 is the perplexity of /content/presidential_speeches_valid.txt according to /content/drive/My Drive/finetuned_models/presidential_speeches/checkpoint-3000.\n",
        "\n",
        "18.39898681640625 is the perplexity of /content/presidential_speeches_test.txt according to /content/drive/My Drive/finetuned_models/presidential_speeches/checkpoint-3000\n",
        "\n",
        "**GPT-2 Without Fine-tuning**\n",
        "\n",
        "27.0704402923584 is the perplexity of /content/presidential_speeches_valid.txt according to gpt2-medium\n",
        "\n",
        "23.510801315307617 is the perplexity of /content/presidential_speeches_test.txt according to gpt2-medium"
      ]
    },
    {
      "cell_type": "markdown",
      "metadata": {
        "id": "r5o7v2hmhMTO",
        "colab_type": "text"
      },
      "source": [
        "### Generate samples\n",
        "The following code generates text samples that are are continuations of a provided prompt."
      ]
    },
    {
      "cell_type": "code",
      "metadata": {
        "id": "XcvySe_wrCWh",
        "colab_type": "code",
        "colab": {}
      },
      "source": [
        "def generate_samples(args, model, prompt_text):\n",
        "  \"\"\"Generating sampling for the provided prompt using the provided model.\"\"\"\n",
        "  set_seed(args.seed)\n",
        "\n",
        "  _, _, tokenizer_class = run_language_modeling.MODEL_CLASSES[args.model_type]\n",
        "  tokenizer = tokenizer_class.from_pretrained(args.model_name_or_path, cache_dir=None)\n",
        "\n",
        "  requires_preprocessing = args.model_type in run_generation.PREPROCESSING_FUNCTIONS.keys()\n",
        "  encoded_prompt = tokenizer.encode(prompt_text, add_special_tokens=False, return_tensors=\"pt\")\n",
        "  encoded_prompt = encoded_prompt.to(args.device)\n",
        "\n",
        "  output_sequences = model.generate(\n",
        "      input_ids=encoded_prompt,\n",
        "      max_length=args.length + len(encoded_prompt[0]),\n",
        "      temperature=args.temperature,\n",
        "      top_k=args.k,\n",
        "      top_p=args.p,\n",
        "      repetition_penalty=args.repetition_penalty,\n",
        "      do_sample=True,\n",
        "      num_return_sequences=args.num_return_sequences,\n",
        "  )\n",
        "\n",
        "  # Remove the batch dimension when returning multiple sequences\n",
        "  if len(output_sequences.shape) > 2:\n",
        "    output_sequences.squeeze_()\n",
        "\n",
        "  generated_sequences = []\n",
        "\n",
        "  for generated_sequence_idx, generated_sequence in enumerate(output_sequences):\n",
        "    generated_sequence = generated_sequence.tolist()\n",
        "\n",
        "    # Decode text\n",
        "    text = tokenizer.decode(generated_sequence, clean_up_tokenization_spaces=True)\n",
        "\n",
        "    # Remove all text after the stop token\n",
        "    text = text[: text.find(args.stop_token) if args.stop_token else None]\n",
        "\n",
        "    # Remove the excess text that was used for pre-processing\n",
        "    text = text[len(tokenizer.decode(encoded_prompt[0], clean_up_tokenization_spaces=True)) :]\n",
        "\n",
        "    # Add the prompt at the beginning of the sequence.\n",
        "    total_sequence = prompt_text + text\n",
        "\n",
        "    generated_sequences.append(total_sequence)\n",
        "\n",
        "  return generated_sequences"
      ],
      "execution_count": 0,
      "outputs": []
    },
    {
      "cell_type": "code",
      "metadata": {
        "id": "s3LKo9VVjHw0",
        "colab_type": "code",
        "outputId": "9f084069-f873-4b90-e277-ed8bbf004938",
        "colab": {
          "base_uri": "https://localhost:8080/",
          "height": 1000
        }
      },
      "source": [
        "# Set this to the checkpoint you want to use for generation, or to \"gpt2-medium\"\n",
        "# to generate with the pre-trained model without finetuning.\n",
        "\n",
        "# CHECKPOINT_PATH = '/content/drive/My Drive/finetuned_models/presidential_speeches/checkpoint-3000'\n",
        "CHECKPOINT_PATH = \"gpt2-medium\"\n",
        "\n",
        "# You should try out other prompts as well as no prompt at all.\n",
        "PROMPT = '<title=\\\"Remarks on Mission to Mars\\\">'\n",
        "\n",
        "\n",
        "device = torch.device(\"cuda\" if torch.cuda.is_available() else \"cpu\")\n",
        "n_gpu = torch.cuda.device_count()\n",
        "print(\"Running on device: \", device)\n",
        "\n",
        "args = collections.defaultdict(\n",
        "  model_name_or_path=CHECKPOINT_PATH,\n",
        "  output_dir=CHECKPOINT_PATH,\n",
        "  n_gpu=n_gpu,\n",
        "  mlm=False,\n",
        "  device=device,\n",
        "  model_type='gpt2',\n",
        "  seed=42,\n",
        "  stop_token=None, # Set this if your dataset has a special word that indicates the end of a text.\n",
        "  temperature=1.0,  # temperature sampling. Set this to temperature=1.0 to not use temperature.\n",
        "  k=50,  # k for top-k sampling. Set this to k=0 to not use top-k.\n",
        "  p=1.0,  # p for nucleus sampling. Set this to p=1.0 to not use nucleus sampling.\n",
        "  repetition_penalty=None,\n",
        "  length=100,  # Number of tokens to generate.\n",
        "  num_return_sequences=100,  # Number of independently computed samples to generate.\n",
        ")\n",
        "args = DictToObj(args)\n",
        "\n",
        "model = load_model(args)\n",
        "sequences = generate_samples(args, model, PROMPT)\n",
        "# for idx, sequence in enumerate(sequences):\n",
        "#   print('\\n====== GENERATION {} ======'.format(idx))\n",
        "#   print(sequence)"
      ],
      "execution_count": 35,
      "outputs": [
        {
          "output_type": "stream",
          "text": [
            "Running on device:  cuda\n"
          ],
          "name": "stdout"
        },
        {
          "output_type": "stream",
          "text": [
            "02/28/2020 09:52:43 - INFO - transformers.configuration_utils -   loading configuration file https://s3.amazonaws.com/models.huggingface.co/bert/gpt2-medium-config.json from cache at /root/.cache/torch/transformers/98aa65385e18b0efd17acd8bf64dcdf21406bb0c99c801c2d3c9f6bfd1f48f29.266bb9683aedfcb1f7006ad2e6894fce82b8dbbae8125f4fc8570b818005b83d\n",
            "02/28/2020 09:52:43 - INFO - transformers.configuration_utils -   Model config GPT2Config {\n",
            "  \"architectures\": [\n",
            "    \"GPT2LMHeadModel\"\n",
            "  ],\n",
            "  \"attn_pdrop\": 0.1,\n",
            "  \"bos_token_id\": null,\n",
            "  \"do_sample\": false,\n",
            "  \"embd_pdrop\": 0.1,\n",
            "  \"eos_token_ids\": null,\n",
            "  \"finetuning_task\": null,\n",
            "  \"id2label\": {\n",
            "    \"0\": \"LABEL_0\",\n",
            "    \"1\": \"LABEL_1\"\n",
            "  },\n",
            "  \"initializer_range\": 0.02,\n",
            "  \"is_decoder\": false,\n",
            "  \"label2id\": {\n",
            "    \"LABEL_0\": 0,\n",
            "    \"LABEL_1\": 1\n",
            "  },\n",
            "  \"layer_norm_epsilon\": 1e-05,\n",
            "  \"length_penalty\": 1.0,\n",
            "  \"max_length\": 20,\n",
            "  \"model_type\": \"gpt2\",\n",
            "  \"n_ctx\": 1024,\n",
            "  \"n_embd\": 1024,\n",
            "  \"n_head\": 16,\n",
            "  \"n_layer\": 24,\n",
            "  \"n_positions\": 1024,\n",
            "  \"n_special\": 0,\n",
            "  \"num_beams\": 1,\n",
            "  \"num_labels\": 2,\n",
            "  \"num_return_sequences\": 1,\n",
            "  \"output_attentions\": false,\n",
            "  \"output_hidden_states\": false,\n",
            "  \"output_past\": true,\n",
            "  \"pad_token_id\": null,\n",
            "  \"predict_special_tokens\": true,\n",
            "  \"pruned_heads\": {},\n",
            "  \"repetition_penalty\": 1.0,\n",
            "  \"resid_pdrop\": 0.1,\n",
            "  \"summary_activation\": null,\n",
            "  \"summary_first_dropout\": 0.1,\n",
            "  \"summary_proj_to_labels\": true,\n",
            "  \"summary_type\": \"cls_index\",\n",
            "  \"summary_use_proj\": true,\n",
            "  \"temperature\": 1.0,\n",
            "  \"top_k\": 50,\n",
            "  \"top_p\": 1.0,\n",
            "  \"torchscript\": false,\n",
            "  \"use_bfloat16\": false,\n",
            "  \"vocab_size\": 50257\n",
            "}\n",
            "\n",
            "02/28/2020 09:52:43 - INFO - transformers.modeling_utils -   loading weights file https://s3.amazonaws.com/models.huggingface.co/bert/gpt2-medium-pytorch_model.bin from cache at /root/.cache/torch/transformers/4b337a4f3b7d3e1518f799e238af607498c02938a3390152aaec7d4dabca5a02.8769029be4f66a5ae1055eefdd1d11621b901d510654266b8681719fff492d6e\n",
            "02/28/2020 09:52:57 - INFO - transformers.tokenization_utils -   loading file https://s3.amazonaws.com/models.huggingface.co/bert/gpt2-medium-vocab.json from cache at /root/.cache/torch/transformers/f20f05d3ae37c4e3cd56764d48e566ea5adeba153dcee6eb82a18822c9c731ec.1512018be4ba4e8726e41b9145129dc30651ea4fec86aa61f4b9f40bf94eac71\n",
            "02/28/2020 09:52:57 - INFO - transformers.tokenization_utils -   loading file https://s3.amazonaws.com/models.huggingface.co/bert/gpt2-medium-merges.txt from cache at /root/.cache/torch/transformers/6d882670c55563617571fe0c97df88626fb5033927b40fc18a8acf98dafd4946.70bec105b4158ed9a1747fea67a43f5dee97855c64d62b6ec3742f4cfdb5feda\n"
          ],
          "name": "stderr"
        }
      ]
    },
    {
      "cell_type": "code",
      "metadata": {
        "id": "Gi5OLCx3NL4Y",
        "colab_type": "code",
        "colab": {
          "base_uri": "https://localhost:8080/",
          "height": 1000
        },
        "outputId": "b22bf348-f378-4f6d-f0c0-e58fd1d0cbf8"
      },
      "source": [
        "for idx, sequence in enumerate(sequences):\n",
        "  print('\\n====== GENERATION {} ======'.format(idx))\n",
        "  print(sequence)"
      ],
      "execution_count": 36,
      "outputs": [
        {
          "output_type": "stream",
          "text": [
            "\n",
            "====== GENERATION 0 ======\n",
            "<title=\"Remarks on Mission to Mars\">When astronauts enter cryogenic conditions, they put on their spacesuits, their gloves and go into an extremely cold suit. This cools them down, so they don't heat up from the Earth. This is the moment when we get the astronauts up into Earth orbit, about 40 minutes after leaving the Earth's atmosphere. What NASA wants was to put them into their cryogenic suits because that would help them stay up for a long time without losing altitude. The question is - it's a good question\n",
            "\n",
            "====== GENERATION 1 ======\n",
            "<title=\"Remarks on Mission to Mars\">\"Sending a rover to Mars is like making a wish without a first wish, so what are we waiting for?\"</title>\n",
            "\n",
            "</head>\n",
            "\n",
            "<body class=\"mainFooter\" > <h1>The Next 20 Years: Space Exploration</h1> <p>For the next 20 years, NASA will conduct space exploration campaigns in support of global peace, prosperity, and safety; help meet the increasing human population; and protect Earth's most precious resources.</p\n",
            "\n",
            "====== GENERATION 2 ======\n",
            "<title=\"Remarks on Mission to Mars\">We now need a new mission to Mars. It is an extraordinary challenge, the most audacious yet devised. The NASA budget is a mess and as a consequence not one of our NASA projects has been approved except for one. Our own agency has repeatedly been refused funding, and the Senate's committee has been refusing to even listen. That has had devastating consequences not just for NASA but for American competitiveness and innovation. Every aspect of NASA is in jeopardy and we are no closer to Mars. But we must\n",
            "\n",
            "====== GENERATION 3 ======\n",
            "<title=\"Remarks on Mission to Mars\">A message on the history of science and discovery.\"</title> <div class=\"col-sm-6\"> <span class=\"text-align\" style=\"color: #7E2939;\">From <a href=\"http://www.sciencemag.org/pmc/main_sci_article.cfm?module=pm-news\" target=\"_blank\"><span class=\"links\">Science</a></span> <span class=\"text-align\" style=\"\n",
            "\n",
            "====== GENERATION 4 ======\n",
            "<title=\"Remarks on Mission to Mars\">[SPOTTED] by the NASA/JPL (STH) and the ESA (ESA/NASA) Mars Reconnaissance Orbiter on 16 April 2016. Credit: Robert Zubrin for NASA JPL [High Resolution] Caption: NASA/JPL-Caltech/Space Science Institute\n",
            "\n",
            "The search for exoplanets by far outnumbers Earth scientists' other tasks. How many Earth-like worlds and nearby stars are there? What planets the vast majority of exoplanets could\n",
            "\n",
            "====== GENERATION 5 ======\n",
            "<title=\"Remarks on Mission to Mars\">This mission is part of the ESA's Mars Express mission.\"</title><|endoftext|>If you are trying to get the easiest way to find out what features you might have previously listed in the System Tools, let's address that first.\n",
            "\n",
            "What are System Tools?\n",
            "\n",
            "System tools are tool-tips or options placed on the Windows Start screen. System tools have three kinds of options:\n",
            "\n",
            "Option (defaulted to a button on the Start menu): When you right-click this option will\n",
            "\n",
            "====== GENERATION 6 ======\n",
            "<title=\"Remarks on Mission to Mars\">From NASA Headquarters:</title> <title=\"Mission Overview\">NASA and partners conduct several studies in an effort to determine the appropriate parameters for the next stage of human exploration. In addition to mission evaluations and observations, these studies and reports analyze the progress and potential costs in terms of living environments, health services, scientific instruments, and resources to accomplish the goals of the human exploration program. These studies and reports serve as important guidance for the decision makers who choose to embark on human space exploration missions or prepare\n",
            "\n",
            "====== GENERATION 7 ======\n",
            "<title=\"Remarks on Mission to Mars\">We believe that our journey to a Mars mission is essential to our society,\" Dr. James Baratz told SPACE.com. \"And the technology to allow us to do this is here, so we can learn from this experience, learn from its success, become better engineers and keep learning, and hopefully produce it at reduced cost. The first step then is to take the technology and make it affordable.\"\n",
            "\n",
            "One way to reduce costs is by using solar panels, which might be an option for NASA\n",
            "\n",
            "====== GENERATION 8 ======\n",
            "<title=\"Remarks on Mission to Mars\">As part of its mission to Mars, NASA continues to test new technologies to explore space and the environment. Through these tests, the agency is investigating the ways that humans are adapting to the challenges of space travel. Some of these tests involve flying samples into space (the International Space Station), and others involve the crew of a manned spacecraft. These are the last things any scientist wishes to see, so NASA engineers and scientists try to keep space operations, including spacecraft, as exciting as possible.<br /> <\n",
            "\n",
            "====== GENERATION 9 ======\n",
            "<title=\"Remarks on Mission to Mars\">The mission objectives of the MAVEN spacecraft are: (1) search for Mars' past water, (2) sample the environment around Mars, (3) characterize the structure and compositions of Mars, (4) conduct missions intended to detect and characterize water and methane within the exhumidified material of Mars and evaluate conditions and chemistry associated with water and methane accumulation. </title> <title=\"Mars Exploration Rover\">The MAVEN mission aims to fly an unmanned Mars exploration rover mission to the surface\n",
            "\n",
            "====== GENERATION 10 ======\n",
            "<title=\"Remarks on Mission to Mars\">The mission is focused on demonstrating the capability, engineering abilities and ability to effectively conduct mission operations to explore Mars in a way that is cost effective, predictable and transparent. With these goals in mind, we will take NASA to Mars when necessary. We are currently operating over 6,000 experiments, on a schedule of over a year. We are the first agency in history to complete all the testing and launch the first crewed mission to Mars. So, I'm really going on the record and saying that\n",
            "\n",
            "====== GENERATION 11 ======\n",
            "<title=\"Remarks on Mission to Mars\">NASA's mission to Mars is far bigger than one person is expected to handle. We will fly to Mars to conduct research, conduct experiments on the surface of Mars, examine and observe the environment and send back valuable images of the planet. But we can't leave space exploration to our children or grandchildren. Therefore, we need to develop a longer term strategy for humans on Mars…and we've come up with a solution that might actually be much more efficient and practical than ever before…NASA is creating a\n",
            "\n",
            "====== GENERATION 12 ======\n",
            "<title=\"Remarks on Mission to Mars\">Remarks</title>. We'd love for you to join us in making a difference in these important decisions. </head> <body> <h1>How the NASA Mars Exploration Team is Changing Science, Policy and Discovery</h1> <p>To make this mission a success, we need to make big, bold scientific and technological discoveries on Mars that will help us understand how the planet became habitable billions of years ago. But even if we find water or minerals, once that's out\n",
            "\n",
            "====== GENERATION 13 ======\n",
            "<title=\"Remarks on Mission to Mars\">A few days ago, the mission plan was approved by NASA, and the space agency has said it's going to make a decision on when Mars Mission will begin. It's an early decision, which means there could be a delay, but it's one that we will do our best to do within a timeframe,\" Kennedy said. [Read More: See Photos from Mars]\n",
            "\n",
            "In order to get to Mars safely in the future, NASA plans to extend the life of its Mars rovers beyond\n",
            "\n",
            "====== GENERATION 14 ======\n",
            "<title=\"Remarks on Mission to Mars\">It may seem like an odd statement, but it's still true about the exploration that we're going to do there.</title> <title=\"Mission overview\">One of the ways we're able to do a lot of things for a large number of missions is to develop these really close-up missions that will get close enough to see what's really going on at higher magnification</title> <title=\"Mission summary\">A large number of missions use relatively inexpensive cameras like the one in the Apollo 11\n",
            "\n",
            "====== GENERATION 15 ======\n",
            "<title=\"Remarks on Mission to Mars\">I will never forget the emotion behind the words you took from me on behalf of mankind,\" says Mars One co-founder Bas Lansdorp (aka Bas Lansdorp). \"I spoke of how it means a lot that you are there - and I saw those words reflected in everyone who was there, the incredible spirit of commitment that made everyone care.\"<|endoftext|>New Horizons is scheduled to reach Pluto this September and its first encounter may take place this coming January or February next year.\n",
            "\n",
            "This has\n",
            "\n",
            "====== GENERATION 16 ======\n",
            "<title=\"Remarks on Mission to Mars\">Why did I do it?</title> <style name=\"ThemeFont.css\"><!-- #MISSION_MARS-2_SCALE-13px!--><!-- Fonts for Mission Mars --> <style name=\"ThemeFont.css\">#MISSION_MARS-2_MOTION-15px;width: 150px;height: 150px;opacity: 10;padding: 0;}</style> <div id=\"mainPage\"> <div class=\"\n",
            "\n",
            "====== GENERATION 17 ======\n",
            "<title=\"Remarks on Mission to Mars\">The United States launched the Apollo 11 moon landings on 7 July 1969. NASA selected 16 individuals from across the nation to execute two missions under the command of Michael Collins, one crewed spacecraft. Two of these individuals, astronaut Pete Conrad and lunar module pilot Michael Collins were the first American spacewalkers to successfully return to Earth. In the spaceflight program that followed, nearly 1,000 Apollo missions were conducted and more than 11,400 astronauts were served aboard US space vehicles. NASA launched the\n",
            "\n",
            "====== GENERATION 18 ======\n",
            "<title=\"Remarks on Mission to Mars\">As commander of the Mars Pathfinder spacecraft, Ron D. Slayton is leading an international mission to gather more insight into our closest neighbor and our shared solar system.\",\"timestamp\":\"2017-05-10 21:03:24\",\"author\":\"Bob Langley\",\"url\":\"http://www.space.com/news/blogs/robertson_mars_commander_raises_the_moon_at_a_glance\",\"image\":\"https://image.spaceimages.\n",
            "\n",
            "====== GENERATION 19 ======\n",
            "<title=\"Remarks on Mission to Mars\">The mission will include operations on two separate flights to and from the surface, with the goal of landing in 2021. When humans are fully capable of returning to the surface around 2026, mission science goals are to detect signs of microbial life on the planet, detect and characterize water loss, and verify that water flows through Mars' bedrock. Scientists will also investigate how Mars' ancient environment changed over its recent history, looking at the chemical signatures and minerals on rocks near the martian surface. The Curiosity rover\n",
            "\n",
            "====== GENERATION 20 ======\n",
            "<title=\"Remarks on Mission to Mars\">\"We can hardly be certain that Mars is not the world of the future in human history, but we can be sure that its existence will not affect our future.\"</title> <description >While NASA's Mars rover Curiosity continues to explore the Red Planet, a new movie tells the story of the Mars Odyssey probe, sent to the Red Planet in 2004 to explore for signs of life.</description> </picture> <picture name=\"Mars Odyssey\"> <description >The Mars Odyssey probe was sent into\n",
            "\n",
            "====== GENERATION 21 ======\n",
            "<title=\"Remarks on Mission to Mars\">NASA will launch a new generation of communications satellites to make communications as efficient as possible. The satellite, called Mars Global-Mars Climate Orbiter (MAGCO), is designed to deliver up to 100 megabits per second (Mbps) communications to geostationary satellites within a radius of 10 Earth orbit (1,000 km). The data will be sent back in an uninterrupted fashion.</title>\n",
            "\n",
            "<title=\"A Brief History of Space\">NASA's space shuttle program was founded nearly\n",
            "\n",
            "====== GENERATION 22 ======\n",
            "<title=\"Remarks on Mission to Mars\">Mission to Mars will explore the origins of life throughout its entire range of stages from its earliest precociously complex beginning with bacterial evolution and its eventual evolution of land organisms to its final human origin and ultimately into its interweaving with interstellar space.</title>\n",
            "\n",
            "<title=\"Mission to the International Space Station\">A combination of three missions will support human exploration of space and help us plan for human manned missions to destinations beyond Earth:</title>\n",
            "\n",
            "<title>Commercial Crew</title>\n",
            "\n",
            "====== GENERATION 23 ======\n",
            "<title=\"Remarks on Mission to Mars\">I believe I have to talk a lot about Mars because I know that there are so many people looking and wanting to find a solution to this problem and I can help others in their quest on that quest. We are looking for the perfect world to be put down in front of us by those on Earth who are willing to do extraordinary things. The opportunity for discovery is not restricted to humans because we have the technology we may need to detect life elsewhere, we have the technology we could use to put humans\n",
            "\n",
            "====== GENERATION 24 ======\n",
            "<title=\"Remarks on Mission to Mars\">The mission to Mars was only part of an evolution of our space flight program, and the next generation of humans will continue that work for generations to come</title> </li> <li> <a href=\"https://www.facebook.com/NASA\" rel=\"noopener noreferrer\">Facebook</a>,</li> <li> <a href=\"https://www.youtube.com/NASA\" rel=\"noopener noreferrer\">YouTube</a\n",
            "\n",
            "====== GENERATION 25 ======\n",
            "<title=\"Remarks on Mission to Mars\">This mission is to demonstrate the Mars Science Laboratory mission's capabilities, such as the robot's ability to conduct the complex calculations that must be performed when returning to Earth, to perform a scientific exploration that has no direct use to return samples of rocks and soil to Earth for analysis, and to conduct a high resolution solar and solar power mission designed to characterize the Martian environment using solar and ultraviolet instruments.</title>\n",
            "\n",
            "<title=\"Mission to the International Space Station\">The first unmanned mission to reach the\n",
            "\n",
            "====== GENERATION 26 ======\n",
            "<title=\"Remarks on Mission to Mars\">A number of scientists from NASA and other research institutions have announced plans to launch an international group of scientific expeditions to Mars, a step that could lead to a significant contribution in search for life on other worlds.</title>\n",
            "\n",
            "<topic-title>NASA's Mars Science Laboratory</topic-title>\n",
            "\n",
            "<textarea name=\"mossy_textarea\">The mission of NASA's Mars Science Laboratory and the mission of the Space Shuttle Discovery program</textarea>\n",
            "\n",
            "<text\n",
            "\n",
            "====== GENERATION 27 ======\n",
            "<title=\"Remarks on Mission to Mars\"> <a href=\"http://www.aionline.org/blog/mission-to-mars\">NASA's Journey to Mars is Enduring</a></td> </tr> <tr id=\"next_topic\" class=\"navbar navbar-default navbar-header navigation-item-heading\" style=\"border:none;padding:10px 20px;margin:0px auto;\" target=\"_blank\">navbox title</tr> <tr> <th\n",
            "\n",
            "====== GENERATION 28 ======\n",
            "<title=\"Remarks on Mission to Mars\">NASA is proud to announce a partnership with the Mars Science Laboratory (MSL) spacecraft. Our joint exploration program will help us learn more about our planet's conditions in space for future human missions to the Solar System.\n",
            "\n",
            "\"NASA is honored to partner with NASA Mars Exploration Rover Team and Jet Propulsion Lab and it will be fantastic to live back at home in the Gale Crater, where we landed this year. If NASA is listening, Curiosity will be in our backyard to take its first measurements\n",
            "\n",
            "====== GENERATION 29 ======\n",
            "<title=\"Remarks on Mission to Mars\">It is well known that human exploration and resource management are the main challenges which face future life forms. In addition, life on Earth has been influenced by events in space. For example, many bacteria were formed not only during the first Earth-Mars conflict but also during the years when Earth has been inhabited by other life such as plants and mammals. However, for some complex biological systems one must be able to predict the evolution of this system. In this investigation we have applied the theory of population genetics in\n",
            "\n",
            "====== GENERATION 30 ======\n",
            "<title=\"Remarks on Mission to Mars\">A special mission to Mars, and the exploration of the red planet, has been a cornerstone of NASA missions to come, as have successful attempts to explore Jupiter.</title></div> 4.3.4. Mission Overview 4.3.4.1. Mission Goals The primary mission goals of the Mars Reconnaissance Orbiter/JAXA mission are as follows:</div> <div> 1. Develop Mars Reconnaissance Orbiter/JAXA science and technology, primarily using the rover\n",
            "\n",
            "====== GENERATION 31 ======\n",
            "<title=\"Remarks on Mission to Mars\">The mission has been successful and they were successfully placed on the moon. We did not have to be afraid about that. We never wanted to take on that type of mission since the Apollo program. Mars is the only place we would want to go. I would love to reach out and grab your hand and kiss each of you. I just want to tell you that Mars is such a beautiful place and that there just aren't that many opportunities like this. We are so lucky to be here on Earth\n",
            "\n",
            "====== GENERATION 32 ======\n",
            "<title=\"Remarks on Mission to Mars\">To achieve a goal with such a high degree of technical detail, it's an interesting challenge.</title>\n",
            "\n",
            "On January 22, 2017, mission operations manager JB Stapleton wrote: \"This morning I was briefed for the last time at 1430 on a mission planned for 6:00 p.m. with a planned landing at 0840 a.m. MT (1730GMT). The orbit is now determined, and we're planning for a burn time of 5:00.\"\n",
            "\n",
            "====== GENERATION 33 ======\n",
            "<title=\"Remarks on Mission to Mars\">The mission to Mars is an absolute priority for humanity, and it is crucial for us to understand the environment of the Red Planet for which astronauts are going,\" says Mark Wade, associate administrator for exploration at NASA Headquarters. He says that more resources will be needed to study the planet, assess the conditions and research conditions. \"And of course, we need to go through the long process of learning more about our solar system. But because of how rich it is, resources will be at a high enough level\n",
            "\n",
            "====== GENERATION 34 ======\n",
            "<title=\"Remarks on Mission to Mars\">The mission to Mars is an extraordinary, inspiring journey, and with the appropriate technology will be conducted according to a high level of safety; but also with great scientific discovery as a result. That's what it's all about, isn't it?</title> </span> <span> </span> </div> </div> </div> </div> <div id=\"mainContent__topbar-1\" class=\"mainContent\"> <div class=\"breadcrumb\"> <div\n",
            "\n",
            "====== GENERATION 35 ======\n",
            "<title=\"Remarks on Mission to Mars\">Science, innovation, and exploration.\n",
            "\n",
            "The event at the Johnson Space Center features a variety of talks, including an opening message by President Nixon, who was one of the mission's original founders and one of the key organizers.\n",
            "\n",
            "As part of the tour, Johnson will also host private parties to raise money for Mars Science Laboratory.\n",
            "\n",
            "The Mars Science Laboratory budget was increased in 2009, and the JSC is working to find an end fund, such as Space Act agreements between NASA and\n",
            "\n",
            "====== GENERATION 36 ======\n",
            "<title=\"Remarks on Mission to Mars\">The crew on this mission is devoted to what NASA refers to as mission-specific mission objectives—so mission success is measured by the time that mission is flown and completed. This mission is being flown today.</title> A high resolution model representing the flight path of the NASA Mars Pathfinder Orbiter in August 2012. [NASA]\n",
            "\n",
            "http://news.nasa.gov/story/2011/09/22/mars-pilot-loses-cantina-pilot-\n",
            "\n",
            "====== GENERATION 37 ======\n",
            "<title=\"Remarks on Mission to Mars\">The mission continues the mission and objectives of MULV; MULV remains the ultimate test bed and a key to NASA development of advanced life systems for human exploration of Mars and beyond, where the mission delivers critical life science data through the use of the Curiosity rover, the first vehicle to arrive onto the dusty desert planet at Gale Crater. After a nine-month test and validation mission on Mars, MULV will conduct additional laboratory activity and launch for science objectives in the laboratory, such as\n",
            "\n",
            "====== GENERATION 38 ======\n",
            "<title=\"Remarks on Mission to Mars\">A mission to Mars from Europe is still a long way off and will take several more decades.</title> <title=\"Space Shuttle History\">In July 1979, NASA launched the Shuttle Endeavour to the International Space Station to perform experiments from which humans learned to safely land on the surface of Earth. After a seven-year mission and more than $3 billion in upgrades, the vehicle was delivered to the Kennedy Space Center and began returning payloads back to Earth. In June 2014, the Shuttle End\n",
            "\n",
            "====== GENERATION 39 ======\n",
            "<title=\"Remarks on Mission to Mars\">Our purpose for our mission is to investigate the origin of life at the origin of the universe. We also seek out any other civilizations that might be interested in visiting Mars.</title> </ul> </li> <li id=\"second_image\"> <div class=\"card1\"> <div id=\"second_image_large\"> </div> </div> <div class=\"card1\" style=\"text-align:center;\"> <h3 class=\"text-white\">About Us\n",
            "\n",
            "====== GENERATION 40 ======\n",
            "<title=\"Remarks on Mission to Mars\">On a NASA Earth and Space Traveler's Journey</title>\n",
            "\n",
            "<description></description>\n",
            "\n",
            "\"It's not the right place or time to say, 'This is the right way'. I wish I would have been in that situation…But they're making a little bit of money out of it too so...we can look at the potential.\"\n",
            "\n",
            "<ref name=\"nasa_marscapes\">NASA's Mars Exploration Rover Spacecraft | Return to top</ref\n",
            "\n",
            "====== GENERATION 41 ======\n",
            "<title=\"Remarks on Mission to Mars\">In 2003 NASA launched the Mars Exploration Rover Curiosity, using a modified version of the Mars Sample Return Vehicle (MSRV) that could send scientific samples back to Earth. One of the challenges we encountered was that while a rover is designed to send back data, much more is available for exploration, including mineralogy and chemical analysis on Mars. Curiosity's sample return mission has yielded invaluable information on Martian rocks, but more important is the potential to learn new insights into the chemical composition of Mars. The rocks\n",
            "\n",
            "====== GENERATION 42 ======\n",
            "<title=\"Remarks on Mission to Mars\">Mission to Mars!</title> <style>.metahistoryRow { background-color: transparent; padding: 4.5%; overflow: hidden; border-radius: 3px; } body:not(.metahistoryRow).metahistoryRow { display: inline-block; padding: 4.5%; border: 3px solid #1cdcc3; color: #fff; border-radius: 3px; background-color: #ffff\n",
            "\n",
            "====== GENERATION 43 ======\n",
            "<title=\"Remarks on Mission to Mars\">This is a challenge that the NASA community has taken on since the 1980s. The basic concept has been for humans to land an asteroid within 100 years. The objective of this program is to send astronauts back to the moon and, perhaps more importantly, a rover that can travel to Mars. We are on our way. We believe we are headed for an interesting planet — to the moon. </title> <title=\"Science Goals\">Mission success is critical in developing sustainable technologies for reducing carbon pollution in\n",
            "\n",
            "====== GENERATION 44 ======\n",
            "<title=\"Remarks on Mission to Mars\">NASA has selected to conduct a human exploration rover mission to Mars. It is the first mission to send humans to the Red Planet. In November 2012, this mission was selected to the Mars Reconnaissance Orbiter (MRO). This new $2.8 billion Mars rover mission will operate the SMA-1 orbital robot, and conduct scientific investigations across the entire terrain of Mars. While NASA and Mars Science Laboratory (MSL) scientists make progress on NASA's planetary exploration goals, this mission is designed\n",
            "\n",
            "====== GENERATION 45 ======\n",
            "<title=\"Remarks on Mission to Mars\">My main theme was about doing it right, doing it right the first time, but it was sort of a mix of what the mission could be without a lot of pressure, the mission itself, and not wanting to set a precedent too immediately. And so what the mission did as far as scientific, not scientific, and social benefits as a whole, is to tell the Mars story to people that were very unlikely to ever read Mars literature before, through a combination of talking to them about the mission,\n",
            "\n",
            "====== GENERATION 46 ======\n",
            "<title=\"Remarks on Mission to Mars\">I'm not talking about a mere mission here on earth, but an effort to explore the entire solar system, not just a single planet, and that means exploring everything from deep space, through planets and moons, and up to the outer atmosphere of our nearest neighbor, and then to the surface of Mars. What I'm talking about here is the exploration and the construction of a space lab on Mars, which we can call the Transporter Station with the two spacesuits inside of it where you can put\n",
            "\n",
            "====== GENERATION 47 ======\n",
            "<title=\"Remarks on Mission to Mars\">John and Sara Shepard spoke at the opening of NASA's new Space Act Laboratory today to learn more about the mission. </title> <title=\"NASA Mars Exploration Mission Status Update\">NASA today released the status of the Mars Exploration Mission (MEMM) mission. This mission will fly a rover on a robotic descent into Mars, landing in November 2020.</title> <title=\"NASA's Manned Ultralight Rocket (ULRR) Mission\">NASA's Mars Exploration Mission is designed to fly a\n",
            "\n",
            "====== GENERATION 48 ======\n",
            "<title=\"Remarks on Mission to Mars\">I learned about science and exploration more from a man of the mind than a man of the body. It was a profound experience to see how the physical world changed. And it showed me how things from this life might have changed for us all in the future.</title> <script type=\"text/javascript\"> var lstD = document.getElementsByTagName('script')[0]; var strSt = document.getElementsByTagName('script')[1]; document\n",
            "\n",
            "====== GENERATION 49 ======\n",
            "<title=\"Remarks on Mission to Mars\">On April 25, 2012 (just a few days after a press conference announcing their mission to Mars), the team at NASA's Jet Propulsion Laboratory (JPL) and their rover Curiosity carried back samples of organic compounds from surface microbes that had lived in an area known as rolisoni before its environment changed significantly from a warm desert to frozen desert. These samples include organic, chloroplast, and microorganisms from these rolisoni samples from Gale Crater. [Mars Sample Return to\n",
            "\n",
            "====== GENERATION 50 ======\n",
            "<title=\"Remarks on Mission to Mars\">The next phase in NASA's program to explore space around the world will include two missions to explore Mars to conduct detailed studies on the environmental conditions of the red planet. First up will be NASA's Mars Exploration Rover Opportunity, an exploration rover that roams the surface of Mars searching for evidence of past contact with life. Next, in 2022, will be NASA's Curiosity rover on Mars, which is developing the tools needed to explore this extraordinary red planet. All three of these spacecraft will travel for many months\n",
            "\n",
            "====== GENERATION 51 ======\n",
            "<title=\"Remarks on Mission to Mars\">Today, NASA's Curiosity rover completed a mission of exploration of Mars. The mission marked a new frontier in scientific study, exploration, and stewardship of this remote and inhospitable world. More than anything, today marked the beginning of a new chapter: a journey to understand Mars through the eyes of one of science's most iconic and ambitious space explorers. As this new chapter continues and the community of scientists who made this journey grow, Curiosity will continue to explore these far reaches of human exploration. In\n",
            "\n",
            "====== GENERATION 52 ======\n",
            "<title=\"Remarks on Mission to Mars\">Scientists of the International Lunar Institute (I.LM.) have announced the confirmation of the feasibility of landing a robotic rover on Mars in the mid-2020s. While there won't be any new technology being developed at the I.LM, they are confident the rover will return samples to a site where they can be used in research. In the near future, the rover could sample soil and ice from the surface. In the meantime, scientists are developing an ion propulsion system for the spacecraft and have conducted\n",
            "\n",
            "====== GENERATION 53 ======\n",
            "<title=\"Remarks on Mission to Mars\">By the time you're 20 years old, you're already out there. At that point, you start applying your learning. So now I always tell my students, when I've taught you in school, 'If you want to become an astronaut, learn how to fly a rocket ship. Learn how to launch a probe to the surface of Mars. Learn how to make a nuclear reactor.' To be clear, I teach students, don't study science. I teach them to love science.\n",
            "\n",
            "\n",
            "\n",
            "====== GENERATION 54 ======\n",
            "<title=\"Remarks on Mission to Mars\">The United States and Russia are engaged in a cooperative space program to explore, characterize, and ultimately validate the ability to explore and characterize the surface of Mars in deep space and to ultimately determine the best course for advancing humans to Mars.</title><url=http://mars.jpl.nasa.gov/sirts/detail/detail.cfm?id=3668>https://mars.jpl.nasa.gov/sirts/detail/detail.cfm\n",
            "\n",
            "====== GENERATION 55 ======\n",
            "<title=\"Remarks on Mission to Mars\">\n",
            "\n",
            "This would be the first of a three-part visit where we're going to be looking at the surface of Mars, and making those observations in the hopes of getting clues about the conditions there. So, if, say, we're really looking for a crater in Mars that would be more hospitable to life, looking for areas where it's probably active, areas we'd have to be sensitive to it coming back from, what's the likelihood that we'll ever find it? It really\n",
            "\n",
            "====== GENERATION 56 ======\n",
            "<title=\"Remarks on Mission to Mars\">By Michael A. Hopkins</title> <title=\"Vesseling the Deep-Sky Neighborhood\">By Bruce Bockholz</title> <title=\"Gavin Schmidt's Final Report\">By Gavin Schmidt</title> <title=\"NASA's Next Five Years\">By Jeff Lassen</title> <title \"What Next?\": A New Focus on Deep Solar System Exploration\">By Jeff Lassen</title> <title \"What Next?\": A New Focus on Deep Solar System\n",
            "\n",
            "====== GENERATION 57 ======\n",
            "<title=\"Remarks on Mission to Mars\">We think that the best way for us to learn about Mars is to understand those deep, rocky worlds where they are so important to our understanding of the universe,'' said Dr. Carl Sagan, executive director of the Planetary Science Institute who will launch the agency's new mission.\n",
            "\n",
            "The $3.7 million NASA mission will fly over the Red Planet in a rover known as Curiosity, which will be equipped with a camera called the Chemistry and Camera to acquire new views of the surface and atmosphere.\n",
            "\n",
            "\n",
            "====== GENERATION 58 ======\n",
            "<title=\"Remarks on Mission to Mars\">The Mars colony proposal was one of the major issues discussed by the committee, which considered the merits, or demerits, of the Mars mission. This Mars colony application was in effect one of the more highly scrutinized aspects of the Mars rovers at that time.[9] The committee had been considering a $11 million dollar effort to fund the proposal since 1996.[10] This request came to a vote on April 23, 1997 in the Congressional committee hearing on Mission to Mars. [NOTE from\n",
            "\n",
            "====== GENERATION 59 ======\n",
            "<title=\"Remarks on Mission to Mars\">Dr. Carl Sagan's remarkable speech before the American Astronomical Society on October 26, 1967. The speech was presented and copyrighted by the Smithsonian Institution. </title> </head> <body nuzzled=\"1\" > <h2 lang=\"en\"> <a href=\"http://www.msg.nasa.gov/news/press-releases/news.html\"> NASA Astronomy News </a> </h2> </body> </html>\n",
            "\n",
            "The page\n",
            "\n",
            "====== GENERATION 60 ======\n",
            "<title=\"Remarks on Mission to Mars\">We have achieved a remarkable science degree and technology transition. We have made a significant leap forward in both the fundamental science and the performance of these technologies that enable us to achieve Mars. But these achievements come at a fundamental cost. These technologies are complex to use, hard to work with, and expensive. There are only a few companies with the capability today to achieve those goals. That is why this mission was so challenging, because there would be no funding for developing these technologies,\" they wrote.\n",
            "\n",
            "\n",
            "\n",
            "====== GENERATION 61 ======\n",
            "<title=\"Remarks on Mission to Mars\">[22] These events are intended to inspire American scientists and engineers to be more vigilant about ensuring safe operation of space, to ensure the safety of American workers during all aspects of their working lives. This is especially important because there has been a decrease in the use of space suits between the years 1996 and 2008.</title> </li> <li class='proto_link id='article-4' title='SOURCES OF INTEREST'> <span>\"NASA News: Opportunity is\n",
            "\n",
            "====== GENERATION 62 ======\n",
            "<title=\"Remarks on Mission to Mars\">A NASA spacecraft is being sent into the final frontier of space operations on a routine flight of the Mercury spacecraft. The mission will spend four weeks on Mars and return evidence from the spacecraft's rovers, landers, astronauts, scientific team and robotic arm, among other things. It provides important data to advance our understanding of Martian conditions and environments, and will also help prepare us for the launch of NASA's robotic Mars rover, MAVEN, to the surface in January 2016. From the mission perspective,\n",
            "\n",
            "====== GENERATION 63 ======\n",
            "<title=\"Remarks on Mission to Mars\">The mission to Mars is the only challenge of our time that we have chosen to confront it in pursuit of humanity's ultimate goal, the discovery of truth about ourselves, our place in the universe, our role on this magnificent planet. We are facing an important milestone and on October 17, the first human settlers will land on Mars. This mission offers us our first opportunity to learn how this planet could look like and feel like. It is also a major step in the evolution of our space program and may\n",
            "\n",
            "====== GENERATION 64 ======\n",
            "<title=\"Remarks on Mission to Mars\">The mission to Mars is the greatest scientific achievement of humanity. Yet it was not supposed to happen today. One of the greatest obstacles that stood in the way of the mission is the existence of three million people on this Earth, most of whom will die. You are, therefore, my witness, that it will take only a minute to find a way to save the 3 million. And by that time, one of the most extraordinary lives of humanity will have been saved. And there won't be anyone\n",
            "\n",
            "====== GENERATION 65 ======\n",
            "<title=\"Remarks on Mission to Mars\">We launched an instrument to measure the gas composition and size in the Martian atmosphere, and we've been doing a study of whether that could reveal if there's any sign of an ocean or a planet in the planet's lower atmosphere.</title> <summary>An instrument used to measure the pressure and volume in a martian atmosphere has found a tiny planet, and it could suggest a long-enduring atmosphere.</summary>\n",
            "\n",
            "<entry name=\"Lunar Eclipse\" description=\"The space-\n",
            "\n",
            "====== GENERATION 66 ======\n",
            "<title=\"Remarks on Mission to Mars\">This mission was selected to study the complex interaction of a host of forces that govern and regulate life on planets Earth. For more information about this exploration, head to www.nasa.gov/msl and www.nasa.gov/mlc for more information.</title> <script language=\"JavaScript\">function getMarsL_MissionName() { var dateMinutes = Date.now(); var name = ''; var latitudes = 42, longitudes= 42; var minutes\n",
            "\n",
            "====== GENERATION 67 ======\n",
            "<title=\"Remarks on Mission to Mars\">The human experience on this planet has provided us the first glimpses into the incredible world that exists above, below, right beneath and behind us. As we explore, we will find the world is bigger than we imagined. The journey on Mars and beyond will lead us deep beyond the Solar System's Solar System, to reach a more alien system that lies just beyond our Solar System…a universe so vast and rich it might seem far beyond our reach. What we discover there will be far larger than our\n",
            "\n",
            "====== GENERATION 68 ======\n",
            "<title=\"Remarks on Mission to Mars\">How many people have gone to Mars? One thousand and two thousand five—a thousand and a half and twice as many as all the men who have gone before you. </title> </article>\n",
            "\n",
            "<!-- /*![CDATA[ (object, key) => console.log('<article id=\"title>\" title=\"<article>' key</article>'</article><h2>' title=\"<article>' key (1)</article><h2>'\n",
            "\n",
            "====== GENERATION 69 ======\n",
            "<title=\"Remarks on Mission to Mars\">It will take some years to make it into orbit and there are other reasons why the American astronauts will have to settle down in Mars orbit before we can launch them to Mars.</title> <url=\"http://upload.wikimedia.org/wikipedia/commons/thumb/1/1c/Remarks on Mission to Mars.png/20/Remarks_on_Mission_to_Mars.png\">How to launch a spacecraft.</url> <url=\"http://upload\n",
            "\n",
            "====== GENERATION 70 ======\n",
            "<title=\"Remarks on Mission to Mars\">To achieve our primary mission objectives, Mars is extremely challenging,'' a NASA spokesman told SPACE.com. \"It takes a significant commitment, time, skills and resources; the challenge requires an active and willing workforce.''\n",
            "\n",
            "But the new effort to put the final touches on space-based telescopes and communications will be an impressive test of Earth-bound capabilities and potential global reach.\n",
            "\n",
            "\"It's the start of something and we all want to get a shot at accomplishing NASA's space goals,''\n",
            "\n",
            "====== GENERATION 71 ======\n",
            "<title=\"Remarks on Mission to Mars\">NASA is currently seeking solutions to key NASA mission problems, including but not limited to: NASA's mission of exploration of space, the nation's future in space exploration, and our ability to build a sustainable economy in space.</title> </entries> </query> </doc> <section id=\"content_section1\"> </section> <section id=\"content_section2\"> <ul id=\"content_body\"> <li id=\"content_section_label\"> <span>About the\n",
            "\n",
            "====== GENERATION 72 ======\n",
            "<title=\"Remarks on Mission to Mars\">The Curiosity Rover's exploratory Mars adventure will serve as a critical component in the exploration of other bodies in the Solar System including, potentially, the surface of Mars.</title> <title=\"Remarks on Trans-Mars Express\">The Trans-Mars Express is our plan to fly an asteroid to the Mars surface.</title> <title=\"Remarks on Viking Orbiter\">One of the most important aspects of the Viking voyage was its approach to a hostile Mars. But what did we actually discover?\n",
            "\n",
            "====== GENERATION 73 ======\n",
            "<title=\"Remarks on Mission to Mars\">A mission to Mars is still the dream of humankind, however more pressing than ever, it is one that is becoming increasingly close. For as we all know, humanity has reached the edge of this limit. The planet that we consider as a home will someday one day no longer exist. The human beings that inhabit Mars, on this distant planet that we call the Red Planet, are going to have to face this reality: their very existence is at risk. The reality of the planet that we are visiting\n",
            "\n",
            "====== GENERATION 74 ======\n",
            "<title=\"Remarks on Mission to Mars\">Mission to Mars: a statement by the Director</title> <style type=\"text/css\">.head.flair { background-color: #f9f9f9; color: rgba(120, 121, 118, 0.78); padding: 3px; font-size: 12px;font-family: Helvetica; background-color: #c9c9c9; }.head.flair a { color:#f9f9f\n",
            "\n",
            "====== GENERATION 75 ======\n",
            "<title=\"Remarks on Mission to Mars\">The mission begins now. </title> <title=\"Mission to Mars\">NASA is looking for astronauts and crewmembers to develop a human spaceflight program. The Space Launch System has to fly on ULA's Delta II rocket with payload, science and technical payloads on board. It will eventually be used to launch an unmanned probe to Mars. NASA needs all the help it can get to fulfill its ambitious goals. </title> <title=\"Mortar Reach\":>It is the ultimate weapon\n",
            "\n",
            "====== GENERATION 76 ======\n",
            "<title=\"Remarks on Mission to Mars\">You've got all your guys prepared to go. </title> <title=\"Solo Mission\">We're the best of friends on the moon! (Yes I thought that, anyway.)</title> <title=\"Cabinet Room Discussion\">Hey there. All of us! Just how is everything going? We have the whole family! </title> <title=\"Cabinet Meeting\">Why are you going with your crew? There's a lot for us to do here. </title\n",
            "\n",
            "====== GENERATION 77 ======\n",
            "<title=\"Remarks on Mission to Mars\">On March 6, 2006 the Obama administration invited the press to NASA's headquarters at White Sands Missile Range in New Mexico for the first time in 60 years. We are proud to be the nation's leading space technology company, and we look forward to working with President Obama and the rest of the world to develop ways to keep American astronauts safe, while supporting private sector innovation that will help us get started on Mars sooner. </title> </div> </span> <span class=\"title\"> <div\n",
            "\n",
            "====== GENERATION 78 ======\n",
            "<title=\"Remarks on Mission to Mars\">When NASA launches a robotic expedition to Mars, it's the first human mission to explore this remote world.\"</title> <h4 style=\"font-size:14px;\\\">NASA Mars Mission Website</h4> <h3 style=\"font-size:14px;\">http://www.nasa.gov/marsmission</h3> <h2 style=\"font-size:14px;\">Twitter: @NASA_Mars</h2> <h2\n",
            "\n",
            "====== GENERATION 79 ======\n",
            "<title=\"Remarks on Mission to Mars\">In September 1963, as we sat behind the lunar crane, I knew that our future could be yours. That future is in our hands, our future is within your grasp, and if we pursue that future then, for the first time in a very long time, people will die on Mars.</title>\n",
            "\n",
            "In the same speech during one of Apollo 13's early abortive spaceflight operations, Charles Conrad told a similar story. Conrad was one of NASA's lunar exploration scientists during Apollo\n",
            "\n",
            "====== GENERATION 80 ======\n",
            "<title=\"Remarks on Mission to Mars\">Dr. Armstrong is one of the leading scientists investigating missions in deep space. He is a member of the first panel of five scientists selected by NASA to explore new areas in space physics, in part as a follow up to the Voyager exploration mission. He will present these results in the event.</title> <link href=\"http://en.wikipedia.org/wiki/Rick_Bradley\"> Rick.Bradley</link> <title=\"NASA Mars Exploration Mission\">MEMRI is a private\n",
            "\n",
            "====== GENERATION 81 ======\n",
            "<title=\"Remarks on Mission to Mars\">If I want to find my feet, I have to find them. I have to find my purpose. I want to do something for the United States of America because we need it for everything in the world. It's my responsibility to take charge of the people in my area, people that have left their families and moved to where they can build for the future. I'm here to help. The American people are at war and you know it. We need to be prepared to be able to deal\n",
            "\n",
            "====== GENERATION 82 ======\n",
            "<title=\"Remarks on Mission to Mars\">After exploring an asteroid in search of Mars, Scott Carpenter decided to attempt life on this planet. His mission was successful, and here he is, on Earth on August 4, 2016, where he is joined by the Space and Human Exploration rovers Team Discovery, Odyssey and Opportunity with NASA's Curiosity rovers to look through the roof at the red planet and its atmosphere.<|endoftext|>At CES 2015, Xiaomi unveiled the recently announced Mi6. What, exactly, was so exciting about the Redmi 6 and\n",
            "\n",
            "====== GENERATION 83 ======\n",
            "<title=\"Remarks on Mission to Mars\">To achieve manned Mars missions by the 2030s and beyond, NASA will dedicate substantial resources and the next wave of its human spaceflight programs will involve exploration into the Moon and beyond, and in the outer Solar System. For those reasons alone, astronauts should expect the U.S. will remain a world leader on exploration of space for decades to come. </title> <link rel=\"prevdate\" href=\"http://www.nasa.gov/mission_pages/jupiter-orbital\n",
            "\n",
            "====== GENERATION 84 ======\n",
            "<title=\"Remarks on Mission to Mars\">NASA's $1.9 trillion Space Launch System rocket, Orion spacecraft and associated spacecraft are on station...</title> <title=\"Mission to Mars\">NASA's $1.9 trillion Space Launch System rocket, Orion spacecraft and associated spacecraft are on station at NASA Headquarters in Washington today</title> <title=\"NASA's Orion and the Space Launch System\">To understand what NASA's Orion spacecraft can do and how they'll make space travel a reality, NASA spent this year preparing Orion and building a\n",
            "\n",
            "====== GENERATION 85 ======\n",
            "<title=\"Remarks on Mission to Mars\">In January 1967, Apollo 12 made an historic landing at the Moon in the historic first Apollo 11 mission. In January 1969, the Apollo 14 mission landed on the Moon and returned a few of its instruments and their equipment. The total package was 4 astronauts and 8 crew members. The mission was a success in every way. This document covers the history with a small overview of mission milestones, milestones planned for the future, and a summary of the current status of the human space program.\n",
            "\n",
            "</title\n",
            "\n",
            "====== GENERATION 86 ======\n",
            "<title=\"Remarks on Mission to Mars\">The NASA space shuttle's third successful mission, the Mars landing on the Red Planet, is the largest effort in American history, with a total budget of more than $1 billion. The mission involves two important milestones--returning a robotic arm to orbit around the Sun in 2000 to sample the asteroid Vesta with new technologies; and setting a course beyond Mars to explore the planet's surface using the Mars Reconnaissance Orbiter. While NASA's mission does bring a lot of excitement to all of us,\n",
            "\n",
            "====== GENERATION 87 ======\n",
            "<title=\"Remarks on Mission to Mars\">It takes a special kind of personality to be able to make decisions. It takes a kind of spirit and an energy. And being able to execute them is something that's unique to me. One of the things that keeps me here is the kind of relationship I feel with each of my colleagues, who are my peers. I have no shortage of them and they are important, and they're my family. To sit down and talk about that, to think of the future as our vision for Mars,\n",
            "\n",
            "====== GENERATION 88 ======\n",
            "<title=\"Remarks on Mission to Mars\">From the Chair of the Committee on Science, Space, and Technology <a href=\"http://www.jpl.nasa.gov\">NASA JPL</a>.</title> <p>This will be the first exploration trip for a group currently focused on the space station mission. Our journey will be focused on exploration, so science is of primary importance for the mission. We will focus on Earth science, human exploration, science and technology, and instrument integration. We will make a total\n",
            "\n",
            "====== GENERATION 89 ======\n",
            "<title=\"Remarks on Mission to Mars\">The Apollo program was not just about proving the feasibility of landing on Mars. It was also about exploring our own Solar System. We didn't just want to see how far we could go, Mars would be more interesting to us than any other place. We also wanted to know how life would evolve, there were some great stories from the past. The human race really isn't known for being creative. There's always been somebody else doing it. The real challenge is how to communicate with other intelligent life\n",
            "\n",
            "====== GENERATION 90 ======\n",
            "<title=\"Remarks on Mission to Mars\">Mr. S. R. Musk</title> <style name=\"font-weight: normal\"> <font colour=\"red\">L2O4-1H8</font> </style>\n",
            "\n",
            "The above is the file that will be used to load the mission website. We also will pass the link in the HTML to a JavaScript function:\n",
            "\n",
            "var gulpJs = require('gulp-js'); gulpJs(styles);\n",
            "\n",
            "This will start JavaScript running from source\n",
            "\n",
            "====== GENERATION 91 ======\n",
            "<title=\"Remarks on Mission to Mars\">NASA's mission to make the first trip to Mars will begin in late 2016 and may span five years, but is set to exceed the 25-year mission duration proposed by the Obama Administration in its proposed strategy for NASA's human exploration program, according to the department's report. In that case, NASA will conduct a two-year robotic exploration of Mars, with a second mission in 2017. The report points out that the cost is far lower than the $788 billion figure that has been proposed by\n",
            "\n",
            "====== GENERATION 92 ======\n",
            "<title=\"Remarks on Mission to Mars\">The mission to Mars could be the most exciting science of our time and the most challenging for an astronaut but the reality is that this project will take us far enough to learn about the universe, and to build habitats there.</title> <title=\"NASA's New Space Station Concept Is Here\">NASA's next NASA plan will launch two test sets of the space station and one Orion crew capsule with its propellant tank filled with liquid hydrogen, fresh liquid oxygen, and food and water.</title> <title\n",
            "\n",
            "====== GENERATION 93 ======\n",
            "<title=\"Remarks on Mission to Mars\">After the Mars missions and the Curiosity rover, I will travel to orbit around Mars and take measurements, analyze images, and develop methods to understand and predict the conditions there at this critical age. This is my journey to take the next step in human exploration of Mars.</title>\n",
            "\n",
            "<sopDesc=\"Mission to Mars\" title=\"Mission to Mars\">The mission to Mars was a long-term vision, driven by the fundamental idea that we should explore the entire Solar System as a whole,\n",
            "\n",
            "====== GENERATION 94 ======\n",
            "<title=\"Remarks on Mission to Mars\">You will be the first crewed mission sent to Mars, and the first to return samples. There are not many scientists who know exactly what they've done. The success of this mission will mark my most recent contribution to the space program. I feel very proud of what we've accomplished and excited about what follows!</title>\n",
            "\n",
            "As a result, Musk didn't seem to mind.\n",
            "\n",
            "In his remarks to the audience, titled \"What does life look like,\" he referenced his mission\n",
            "\n",
            "====== GENERATION 95 ======\n",
            "<title=\"Remarks on Mission to Mars\">A space program that is not only possible, but achievable at a reasonable cost and time.</title> <title=\"Apollo mission: Lessons from Apollo VI\">The history of Apollo VI was the most important, if not the most exciting. The Apollo program set itself apart from later missions during the Apollo era by creating, building and delivering the most significant achievement. Apollo brought to space space exploration what the United States had yet to accomplish.</title> <title=\"JPL mission\">JPL's\n",
            "\n",
            "====== GENERATION 96 ======\n",
            "<title=\"Remarks on Mission to Mars\">For over twenty years, Mars Orbiter Mission (MOM) has searched for and returned samples from Mars. MOM spent most of its mission searching for signs of an ancient sea and is the only mission capable of landing on the surface of Mars. The first rover has recently been launched to return a small portion of the Martian soil sample taken as part of their initial search at Mars! </title> <title=\"Reveals the Origins of Mars\">In a press conference, Mars Orbiter Mission\n",
            "\n",
            "====== GENERATION 97 ======\n",
            "<title=\"Remarks on Mission to Mars\">John F. Kennedy Jr. spoke in February 2010. He said that the mission is a 'winners league' and his daughter, a member of team XPRIZE, is attending <a href=\"http://archive.org/download/XPRIZE-Xmas2010-Election-Presentation-2014-Election-2016-2016-2016\" target=\"_blank\">the <a href=\"https://www.youtube.com/watch?v=xSxC\n",
            "\n",
            "====== GENERATION 98 ======\n",
            "<title=\"Remarks on Mission to Mars\">A new era of exploration has begun in this extraordinary place. On its way — beyond the stars — we shall explore the most remote and mysterious regions of Saturn, studying the inner workings of that frozen planet...</title> <id>473617</id>\n",
            "\n",
            "This image and caption were taken in Saturn's atmosphere on October 5 (see above) for a NASA TV special. The image was obtained at a distance of 30,000 miles (48,000 kilometers)—well beyond the \"\n",
            "\n",
            "====== GENERATION 99 ======\n",
            "<title=\"Remarks on Mission to Mars\">As I've told Congress many times, if the United States wants to keep NASA working today, then to ensure that, we must do something important about planetary protection. Because if you don't do that, if you don't protect our planet you'll always be asking in the future, ''Where are we going?'' It will always be that question. It will always be that dilemma. And the question is: What will happen to our job if we let that dilemma get in the way of NASA\n"
          ],
          "name": "stdout"
        }
      ]
    },
    {
      "cell_type": "code",
      "metadata": {
        "id": "Nj1iGGWoHyMl",
        "colab_type": "code",
        "colab": {
          "base_uri": "https://localhost:8080/",
          "height": 68
        },
        "outputId": "e6fe7e84-4c7e-406f-e458-fa59f693401a"
      },
      "source": [
        "import nltk\n",
        "nltk.download('punkt')\n",
        "from nltk.tokenize import sent_tokenize, word_tokenize \n",
        "\n",
        "tokens = []\n",
        "for idx, sequence in enumerate(sequences):\n",
        "  tokens.append(word_tokenize(sequence))\n",
        "\n",
        "tokens =  [y for x in tokens for y in x]\n",
        "tokens = set(tokens) # set of unique tokens from generated text\n",
        "print('Generated Token Count = ', len(tokens))"
      ],
      "execution_count": 37,
      "outputs": [
        {
          "output_type": "stream",
          "text": [
            "[nltk_data] Downloading package punkt to /root/nltk_data...\n",
            "[nltk_data]   Package punkt is already up-to-date!\n",
            "Generated Token Count =  1926\n"
          ],
          "name": "stdout"
        }
      ]
    },
    {
      "cell_type": "code",
      "metadata": {
        "id": "tLOLI9pjKoo9",
        "colab_type": "code",
        "colab": {
          "base_uri": "https://localhost:8080/",
          "height": 34
        },
        "outputId": "f9b47f92-ca41-4e68-8601-038c2f0fc884"
      },
      "source": [
        "test_tokens = []\n",
        "file = open('/content/presidential_speeches_test.txt', encoding = 'UTF-8', errors = 'ignore').readlines()\n",
        "for line in file:\n",
        "  test_tokens.append(word_tokenize(line))\n",
        "test_tokens =  [y for x in test_tokens for y in x]\n",
        "test_tokens = set(test_tokens) # set of unique tokens from test set\n",
        "print('Test Token Count = ', len(test_tokens))"
      ],
      "execution_count": 38,
      "outputs": [
        {
          "output_type": "stream",
          "text": [
            "Test Token Count =  9155\n"
          ],
          "name": "stdout"
        }
      ]
    },
    {
      "cell_type": "code",
      "metadata": {
        "id": "9jNKzKBHLrZx",
        "colab_type": "code",
        "colab": {
          "base_uri": "https://localhost:8080/",
          "height": 34
        },
        "outputId": "b31880e3-fa2c-41ed-a4fb-436ade3104eb"
      },
      "source": [
        "print('Shared Token Count = ', len(tokens.intersection(test_tokens)))"
      ],
      "execution_count": 39,
      "outputs": [
        {
          "output_type": "stream",
          "text": [
            "Shared Token Count =  1194\n"
          ],
          "name": "stdout"
        }
      ]
    }
  ]
}